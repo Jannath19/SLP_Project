{
  "nbformat": 4,
  "nbformat_minor": 0,
  "metadata": {
    "colab": {
      "provenance": [],
      "toc_visible": true
    },
    "kernelspec": {
      "name": "python3",
      "display_name": "Python 3"
    },
    "language_info": {
      "name": "python"
    }
  },
  "cells": [
    {
      "cell_type": "markdown",
      "source": [
        "# **Loading Packages**"
      ],
      "metadata": {
        "id": "CcFBwt6da80Z"
      }
    },
    {
      "cell_type": "code",
      "source": [
        "import pandas as pd\n",
        "import re\n",
        "import statsmodels.api as sm\n",
        "from statsmodels.formula.api import ols\n",
        "import scipy.stats as stats\n",
        "import matplotlib.pyplot as plt\n",
        "from scipy.stats import levene\n",
        "import numpy as np\n",
        "from matplotlib.patches import ConnectionPatch\n",
        "import seaborn as sns\n",
        "from scipy.stats import kruskal\n",
        "from sklearn.preprocessing import OrdinalEncoder"
      ],
      "metadata": {
        "id": "Tcb5YYOMbCeI"
      },
      "execution_count": 39,
      "outputs": []
    },
    {
      "cell_type": "markdown",
      "source": [
        "# **Data Processing**"
      ],
      "metadata": {
        "id": "ckFPouWObpSh"
      }
    },
    {
      "cell_type": "code",
      "source": [
        "from google.colab import drive\n",
        "\n",
        "# Mount Google Drive\n",
        "drive.mount('/content/gdrive')"
      ],
      "metadata": {
        "colab": {
          "base_uri": "https://localhost:8080/"
        },
        "id": "xiB-7wa7Qf_z",
        "outputId": "fe83b88b-8fbe-4714-c151-1a5eb8c0159f"
      },
      "execution_count": 7,
      "outputs": [
        {
          "output_type": "stream",
          "name": "stdout",
          "text": [
            "Drive already mounted at /content/gdrive; to attempt to forcibly remount, call drive.mount(\"/content/gdrive\", force_remount=True).\n"
          ]
        }
      ]
    },
    {
      "cell_type": "code",
      "source": [
        "# Adjust the folder and file names as needed\n",
        "folder_name = 'SLP Data'\n",
        "file_name = 'Parent Satisfaction with SLP.csv'\n",
        "\n",
        "# Mount Google Drive\n",
        "from google.colab import drive\n",
        "drive.mount('/content/gdrive')\n",
        "\n",
        "# Construct the file path\n",
        "file_path = f'/content/gdrive/MyDrive/{folder_name}/{file_name}'\n",
        "\n",
        "# Read the CSV file into a DataFrame\n",
        "df_raw = pd.read_csv(file_path)\n",
        "\n",
        "# Display the first few rows of the DataFrame\n",
        "print(df_raw.head())"
      ],
      "metadata": {
        "colab": {
          "base_uri": "https://localhost:8080/"
        },
        "id": "eOjWeBFaUMoo",
        "outputId": "642238ae-403a-45fb-c6a0-78ed8377b8ca"
      },
      "execution_count": 5,
      "outputs": [
        {
          "output_type": "stream",
          "name": "stdout",
          "text": [
            "Drive already mounted at /content/gdrive; to attempt to forcibly remount, call drive.mount(\"/content/gdrive\", force_remount=True).\n",
            "                                           StartDate  \\\n",
            "0                                         Start Date   \n",
            "1  {\"ImportId\":\"startDate\",\"timeZone\":\"America/De...   \n",
            "2                                2023-09-22 08:57:28   \n",
            "3                                2023-10-04 05:41:23   \n",
            "4                                2023-10-19 13:04:38   \n",
            "\n",
            "                                             EndDate                 Status  \\\n",
            "0                                           End Date          Response Type   \n",
            "1  {\"ImportId\":\"endDate\",\"timeZone\":\"America/Denv...  {\"ImportId\":\"status\"}   \n",
            "2                                2023-09-22 08:59:20             IP Address   \n",
            "3                                2023-10-04 05:41:29             IP Address   \n",
            "4                                2023-10-19 13:04:46             IP Address   \n",
            "\n",
            "                  IPAddress                 Progress    Duration (in seconds)  \\\n",
            "0                IP Address                 Progress    Duration (in seconds)   \n",
            "1  {\"ImportId\":\"ipAddress\"}  {\"ImportId\":\"progress\"}  {\"ImportId\":\"duration\"}   \n",
            "2             71.167.85.248                       38                      112   \n",
            "3              24.47.33.117                        8                        6   \n",
            "4            12.182.255.254                      100                        8   \n",
            "\n",
            "                  Finished                                       RecordedDate  \\\n",
            "0                 Finished                                      Recorded Date   \n",
            "1  {\"ImportId\":\"finished\"}  {\"ImportId\":\"recordedDate\",\"timeZone\":\"America...   \n",
            "2                    False                                2023-09-29 08:59:29   \n",
            "3                    False                                2023-10-11 05:41:33   \n",
            "4                     True                                2023-10-19 13:04:48   \n",
            "\n",
            "                 ResponseId                 RecipientLastName  ...  \\\n",
            "0               Response ID               Recipient Last Name  ...   \n",
            "1  {\"ImportId\":\"_recordId\"}  {\"ImportId\":\"recipientLastName\"}  ...   \n",
            "2         R_2zDgveyYVZMqDg0                               NaN  ...   \n",
            "3         R_1IARJXPgmD4kX33                               NaN  ...   \n",
            "4         R_wRJl4Yqyed8EJ6V                               NaN  ...   \n",
            "\n",
            "                                                Q5_1  \\\n",
            "0  Rate your overall level of satisfaction with y...   \n",
            "1                             {\"ImportId\":\"QID11_1\"}   \n",
            "2                                                NaN   \n",
            "3                                                NaN   \n",
            "4                                                NaN   \n",
            "\n",
            "                                                Q6_1  \\\n",
            "0  Rate your level of agreement with the followin...   \n",
            "1                              {\"ImportId\":\"QID5_1\"}   \n",
            "2                                                NaN   \n",
            "3                                                NaN   \n",
            "4                                                NaN   \n",
            "\n",
            "                                                Q6_2  \\\n",
            "0  Rate your level of agreement with the followin...   \n",
            "1                              {\"ImportId\":\"QID5_2\"}   \n",
            "2                                                NaN   \n",
            "3                                                NaN   \n",
            "4                                                NaN   \n",
            "\n",
            "                                                Q6_3  \\\n",
            "0  Rate your level of agreement with the followin...   \n",
            "1                              {\"ImportId\":\"QID5_3\"}   \n",
            "2                                                NaN   \n",
            "3                                                NaN   \n",
            "4                                                NaN   \n",
            "\n",
            "                                                Q6_4  \\\n",
            "0  Rate your level of agreement with the followin...   \n",
            "1                              {\"ImportId\":\"QID5_4\"}   \n",
            "2                                                NaN   \n",
            "3                                                NaN   \n",
            "4                                                NaN   \n",
            "\n",
            "                                                Q6_5  \\\n",
            "0  Rate your level of agreement with the followin...   \n",
            "1                              {\"ImportId\":\"QID5_5\"}   \n",
            "2                                                NaN   \n",
            "3                                                NaN   \n",
            "4                                                NaN   \n",
            "\n",
            "                                                Q6_6  \\\n",
            "0  Rate your level of agreement with the followin...   \n",
            "1                              {\"ImportId\":\"QID5_6\"}   \n",
            "2                                                NaN   \n",
            "3                                                NaN   \n",
            "4                                                NaN   \n",
            "\n",
            "                                                Q6_7  \\\n",
            "0  Rate your level of agreement with the followin...   \n",
            "1                              {\"ImportId\":\"QID5_7\"}   \n",
            "2                                                NaN   \n",
            "3                                                NaN   \n",
            "4                                                NaN   \n",
            "\n",
            "                                                 Q13  \\\n",
            "0  Are there any other factors that you feel have...   \n",
            "1                          {\"ImportId\":\"QID26_TEXT\"}   \n",
            "2                                                NaN   \n",
            "3                                                NaN   \n",
            "4                                                NaN   \n",
            "\n",
            "                                                 Q14  \n",
            "0  Are there any other factors that you feel have...  \n",
            "1                          {\"ImportId\":\"QID27_TEXT\"}  \n",
            "2                                                NaN  \n",
            "3                                                NaN  \n",
            "4                                                NaN  \n",
            "\n",
            "[5 rows x 40 columns]\n"
          ]
        }
      ]
    },
    {
      "cell_type": "code",
      "source": [
        "import pandas as pd\n",
        "\n",
        "# Mount Google Drive\n",
        "from google.colab import drive\n",
        "drive.mount('/content/gdrive')\n",
        "\n",
        "# Adjust the folder and file names as needed\n",
        "folder_name = 'SLP Data'\n",
        "file_name = 'Parent Satisfaction with SLP.csv'\n",
        "\n",
        "# Construct the file path\n",
        "file_path = f'/content/gdrive/MyDrive/{folder_name}/{file_name}'\n",
        "\n",
        "# Read the CSV file into a DataFrame\n",
        "df_raw = pd.read_csv(file_path)\n",
        "\n",
        "# Display the first few rows of the DataFrame\n",
        "print(df_raw.head())"
      ],
      "metadata": {
        "colab": {
          "base_uri": "https://localhost:8080/"
        },
        "id": "1IZIvaR4Uzs6",
        "outputId": "35f0b5c2-49eb-44ae-ce7e-e4a2c0d49dbb"
      },
      "execution_count": 4,
      "outputs": [
        {
          "output_type": "stream",
          "name": "stdout",
          "text": [
            "Drive already mounted at /content/gdrive; to attempt to forcibly remount, call drive.mount(\"/content/gdrive\", force_remount=True).\n",
            "                                           StartDate  \\\n",
            "0                                         Start Date   \n",
            "1  {\"ImportId\":\"startDate\",\"timeZone\":\"America/De...   \n",
            "2                                2023-09-22 08:57:28   \n",
            "3                                2023-10-04 05:41:23   \n",
            "4                                2023-10-19 13:04:38   \n",
            "\n",
            "                                             EndDate                 Status  \\\n",
            "0                                           End Date          Response Type   \n",
            "1  {\"ImportId\":\"endDate\",\"timeZone\":\"America/Denv...  {\"ImportId\":\"status\"}   \n",
            "2                                2023-09-22 08:59:20             IP Address   \n",
            "3                                2023-10-04 05:41:29             IP Address   \n",
            "4                                2023-10-19 13:04:46             IP Address   \n",
            "\n",
            "                  IPAddress                 Progress    Duration (in seconds)  \\\n",
            "0                IP Address                 Progress    Duration (in seconds)   \n",
            "1  {\"ImportId\":\"ipAddress\"}  {\"ImportId\":\"progress\"}  {\"ImportId\":\"duration\"}   \n",
            "2             71.167.85.248                       38                      112   \n",
            "3              24.47.33.117                        8                        6   \n",
            "4            12.182.255.254                      100                        8   \n",
            "\n",
            "                  Finished                                       RecordedDate  \\\n",
            "0                 Finished                                      Recorded Date   \n",
            "1  {\"ImportId\":\"finished\"}  {\"ImportId\":\"recordedDate\",\"timeZone\":\"America...   \n",
            "2                    False                                2023-09-29 08:59:29   \n",
            "3                    False                                2023-10-11 05:41:33   \n",
            "4                     True                                2023-10-19 13:04:48   \n",
            "\n",
            "                 ResponseId                 RecipientLastName  ...  \\\n",
            "0               Response ID               Recipient Last Name  ...   \n",
            "1  {\"ImportId\":\"_recordId\"}  {\"ImportId\":\"recipientLastName\"}  ...   \n",
            "2         R_2zDgveyYVZMqDg0                               NaN  ...   \n",
            "3         R_1IARJXPgmD4kX33                               NaN  ...   \n",
            "4         R_wRJl4Yqyed8EJ6V                               NaN  ...   \n",
            "\n",
            "                                                Q5_1  \\\n",
            "0  Rate your overall level of satisfaction with y...   \n",
            "1                             {\"ImportId\":\"QID11_1\"}   \n",
            "2                                                NaN   \n",
            "3                                                NaN   \n",
            "4                                                NaN   \n",
            "\n",
            "                                                Q6_1  \\\n",
            "0  Rate your level of agreement with the followin...   \n",
            "1                              {\"ImportId\":\"QID5_1\"}   \n",
            "2                                                NaN   \n",
            "3                                                NaN   \n",
            "4                                                NaN   \n",
            "\n",
            "                                                Q6_2  \\\n",
            "0  Rate your level of agreement with the followin...   \n",
            "1                              {\"ImportId\":\"QID5_2\"}   \n",
            "2                                                NaN   \n",
            "3                                                NaN   \n",
            "4                                                NaN   \n",
            "\n",
            "                                                Q6_3  \\\n",
            "0  Rate your level of agreement with the followin...   \n",
            "1                              {\"ImportId\":\"QID5_3\"}   \n",
            "2                                                NaN   \n",
            "3                                                NaN   \n",
            "4                                                NaN   \n",
            "\n",
            "                                                Q6_4  \\\n",
            "0  Rate your level of agreement with the followin...   \n",
            "1                              {\"ImportId\":\"QID5_4\"}   \n",
            "2                                                NaN   \n",
            "3                                                NaN   \n",
            "4                                                NaN   \n",
            "\n",
            "                                                Q6_5  \\\n",
            "0  Rate your level of agreement with the followin...   \n",
            "1                              {\"ImportId\":\"QID5_5\"}   \n",
            "2                                                NaN   \n",
            "3                                                NaN   \n",
            "4                                                NaN   \n",
            "\n",
            "                                                Q6_6  \\\n",
            "0  Rate your level of agreement with the followin...   \n",
            "1                              {\"ImportId\":\"QID5_6\"}   \n",
            "2                                                NaN   \n",
            "3                                                NaN   \n",
            "4                                                NaN   \n",
            "\n",
            "                                                Q6_7  \\\n",
            "0  Rate your level of agreement with the followin...   \n",
            "1                              {\"ImportId\":\"QID5_7\"}   \n",
            "2                                                NaN   \n",
            "3                                                NaN   \n",
            "4                                                NaN   \n",
            "\n",
            "                                                 Q13  \\\n",
            "0  Are there any other factors that you feel have...   \n",
            "1                          {\"ImportId\":\"QID26_TEXT\"}   \n",
            "2                                                NaN   \n",
            "3                                                NaN   \n",
            "4                                                NaN   \n",
            "\n",
            "                                                 Q14  \n",
            "0  Are there any other factors that you feel have...  \n",
            "1                          {\"ImportId\":\"QID27_TEXT\"}  \n",
            "2                                                NaN  \n",
            "3                                                NaN  \n",
            "4                                                NaN  \n",
            "\n",
            "[5 rows x 40 columns]\n"
          ]
        }
      ]
    },
    {
      "cell_type": "code",
      "source": [
        "# Removing first row that contains the question and second row containing 'import id' & resetting column index\n",
        "df_raw = df_raw.iloc[2:].reset_index(drop=True)"
      ],
      "metadata": {
        "id": "Bb91WHWfb8Jf"
      },
      "execution_count": 43,
      "outputs": []
    },
    {
      "cell_type": "code",
      "source": [
        "df_raw.shape[0]"
      ],
      "metadata": {
        "colab": {
          "base_uri": "https://localhost:8080/"
        },
        "id": "KLjBYdbncBeH",
        "outputId": "9bc7552d-9509-4395-bdd4-5cc74ab66842"
      },
      "execution_count": 44,
      "outputs": [
        {
          "output_type": "execute_result",
          "data": {
            "text/plain": [
              "14"
            ]
          },
          "metadata": {},
          "execution_count": 44
        }
      ]
    },
    {
      "cell_type": "markdown",
      "source": [
        "#Cleaning Columns/Rows"
      ],
      "metadata": {
        "id": "j9i1h5M6cJXA"
      }
    },
    {
      "cell_type": "code",
      "source": [
        "## Removing the incomplete/unsubmitted responses and resetting the index\n",
        "df = df_raw[df_raw['Finished'] == 'True']\n",
        "df = df.reset_index(drop=True)\n",
        "df.shape[0]"
      ],
      "metadata": {
        "colab": {
          "base_uri": "https://localhost:8080/"
        },
        "id": "wekph9LccNkZ",
        "outputId": "40c4b50f-3273-449f-eed1-d2f9d69b2c18"
      },
      "execution_count": 45,
      "outputs": [
        {
          "output_type": "execute_result",
          "data": {
            "text/plain": [
              "10"
            ]
          },
          "metadata": {},
          "execution_count": 45
        }
      ]
    },
    {
      "cell_type": "code",
      "source": [
        "import pandas as pd\n",
        "\n",
        "# Mount Google Drive\n",
        "from google.colab import drive\n",
        "drive.mount('/content/gdrive')\n",
        "\n",
        "# Adjust the folder and file names as needed\n",
        "folder_name = 'SLP Data'\n",
        "file_name = 'Parent Satisfaction with SLP.csv'\n",
        "\n",
        "# Construct the file path\n",
        "file_path = f'/content/gdrive/MyDrive/{folder_name}/{file_name}'\n",
        "\n",
        "# Read the CSV file into a DataFrame\n",
        "survey_data = pd.read_csv(file_path)\n",
        "\n",
        "# Display the first few rows\n",
        "survey_data.head()\n"
      ],
      "metadata": {
        "colab": {
          "base_uri": "https://localhost:8080/",
          "height": 324
        },
        "id": "4S0RkEFFBRS1",
        "outputId": "7587b86a-1a19-4e0e-afaf-4a57ed49a55a"
      },
      "execution_count": 46,
      "outputs": [
        {
          "output_type": "stream",
          "name": "stdout",
          "text": [
            "Drive already mounted at /content/gdrive; to attempt to forcibly remount, call drive.mount(\"/content/gdrive\", force_remount=True).\n"
          ]
        },
        {
          "output_type": "execute_result",
          "data": {
            "text/plain": [
              "                                           StartDate  \\\n",
              "0                                         Start Date   \n",
              "1  {\"ImportId\":\"startDate\",\"timeZone\":\"America/De...   \n",
              "2                                2023-09-22 08:57:28   \n",
              "3                                2023-10-04 05:41:23   \n",
              "4                                2023-10-19 13:04:38   \n",
              "\n",
              "                                             EndDate                 Status  \\\n",
              "0                                           End Date          Response Type   \n",
              "1  {\"ImportId\":\"endDate\",\"timeZone\":\"America/Denv...  {\"ImportId\":\"status\"}   \n",
              "2                                2023-09-22 08:59:20             IP Address   \n",
              "3                                2023-10-04 05:41:29             IP Address   \n",
              "4                                2023-10-19 13:04:46             IP Address   \n",
              "\n",
              "                  IPAddress                 Progress    Duration (in seconds)  \\\n",
              "0                IP Address                 Progress    Duration (in seconds)   \n",
              "1  {\"ImportId\":\"ipAddress\"}  {\"ImportId\":\"progress\"}  {\"ImportId\":\"duration\"}   \n",
              "2             71.167.85.248                       38                      112   \n",
              "3              24.47.33.117                        8                        6   \n",
              "4            12.182.255.254                      100                        8   \n",
              "\n",
              "                  Finished                                       RecordedDate  \\\n",
              "0                 Finished                                      Recorded Date   \n",
              "1  {\"ImportId\":\"finished\"}  {\"ImportId\":\"recordedDate\",\"timeZone\":\"America...   \n",
              "2                    False                                2023-09-29 08:59:29   \n",
              "3                    False                                2023-10-11 05:41:33   \n",
              "4                     True                                2023-10-19 13:04:48   \n",
              "\n",
              "                 ResponseId                 RecipientLastName  ...  \\\n",
              "0               Response ID               Recipient Last Name  ...   \n",
              "1  {\"ImportId\":\"_recordId\"}  {\"ImportId\":\"recipientLastName\"}  ...   \n",
              "2         R_2zDgveyYVZMqDg0                               NaN  ...   \n",
              "3         R_1IARJXPgmD4kX33                               NaN  ...   \n",
              "4         R_wRJl4Yqyed8EJ6V                               NaN  ...   \n",
              "\n",
              "                                                Q5_1  \\\n",
              "0  Rate your overall level of satisfaction with y...   \n",
              "1                             {\"ImportId\":\"QID11_1\"}   \n",
              "2                                                NaN   \n",
              "3                                                NaN   \n",
              "4                                                NaN   \n",
              "\n",
              "                                                Q6_1  \\\n",
              "0  Rate your level of agreement with the followin...   \n",
              "1                              {\"ImportId\":\"QID5_1\"}   \n",
              "2                                                NaN   \n",
              "3                                                NaN   \n",
              "4                                                NaN   \n",
              "\n",
              "                                                Q6_2  \\\n",
              "0  Rate your level of agreement with the followin...   \n",
              "1                              {\"ImportId\":\"QID5_2\"}   \n",
              "2                                                NaN   \n",
              "3                                                NaN   \n",
              "4                                                NaN   \n",
              "\n",
              "                                                Q6_3  \\\n",
              "0  Rate your level of agreement with the followin...   \n",
              "1                              {\"ImportId\":\"QID5_3\"}   \n",
              "2                                                NaN   \n",
              "3                                                NaN   \n",
              "4                                                NaN   \n",
              "\n",
              "                                                Q6_4  \\\n",
              "0  Rate your level of agreement with the followin...   \n",
              "1                              {\"ImportId\":\"QID5_4\"}   \n",
              "2                                                NaN   \n",
              "3                                                NaN   \n",
              "4                                                NaN   \n",
              "\n",
              "                                                Q6_5  \\\n",
              "0  Rate your level of agreement with the followin...   \n",
              "1                              {\"ImportId\":\"QID5_5\"}   \n",
              "2                                                NaN   \n",
              "3                                                NaN   \n",
              "4                                                NaN   \n",
              "\n",
              "                                                Q6_6  \\\n",
              "0  Rate your level of agreement with the followin...   \n",
              "1                              {\"ImportId\":\"QID5_6\"}   \n",
              "2                                                NaN   \n",
              "3                                                NaN   \n",
              "4                                                NaN   \n",
              "\n",
              "                                                Q6_7  \\\n",
              "0  Rate your level of agreement with the followin...   \n",
              "1                              {\"ImportId\":\"QID5_7\"}   \n",
              "2                                                NaN   \n",
              "3                                                NaN   \n",
              "4                                                NaN   \n",
              "\n",
              "                                                 Q13  \\\n",
              "0  Are there any other factors that you feel have...   \n",
              "1                          {\"ImportId\":\"QID26_TEXT\"}   \n",
              "2                                                NaN   \n",
              "3                                                NaN   \n",
              "4                                                NaN   \n",
              "\n",
              "                                                 Q14  \n",
              "0  Are there any other factors that you feel have...  \n",
              "1                          {\"ImportId\":\"QID27_TEXT\"}  \n",
              "2                                                NaN  \n",
              "3                                                NaN  \n",
              "4                                                NaN  \n",
              "\n",
              "[5 rows x 40 columns]"
            ],
            "text/html": [
              "\n",
              "  <div id=\"df-98b26ce4-e180-4b35-8d26-723d6c24ea9e\" class=\"colab-df-container\">\n",
              "    <div>\n",
              "<style scoped>\n",
              "    .dataframe tbody tr th:only-of-type {\n",
              "        vertical-align: middle;\n",
              "    }\n",
              "\n",
              "    .dataframe tbody tr th {\n",
              "        vertical-align: top;\n",
              "    }\n",
              "\n",
              "    .dataframe thead th {\n",
              "        text-align: right;\n",
              "    }\n",
              "</style>\n",
              "<table border=\"1\" class=\"dataframe\">\n",
              "  <thead>\n",
              "    <tr style=\"text-align: right;\">\n",
              "      <th></th>\n",
              "      <th>StartDate</th>\n",
              "      <th>EndDate</th>\n",
              "      <th>Status</th>\n",
              "      <th>IPAddress</th>\n",
              "      <th>Progress</th>\n",
              "      <th>Duration (in seconds)</th>\n",
              "      <th>Finished</th>\n",
              "      <th>RecordedDate</th>\n",
              "      <th>ResponseId</th>\n",
              "      <th>RecipientLastName</th>\n",
              "      <th>...</th>\n",
              "      <th>Q5_1</th>\n",
              "      <th>Q6_1</th>\n",
              "      <th>Q6_2</th>\n",
              "      <th>Q6_3</th>\n",
              "      <th>Q6_4</th>\n",
              "      <th>Q6_5</th>\n",
              "      <th>Q6_6</th>\n",
              "      <th>Q6_7</th>\n",
              "      <th>Q13</th>\n",
              "      <th>Q14</th>\n",
              "    </tr>\n",
              "  </thead>\n",
              "  <tbody>\n",
              "    <tr>\n",
              "      <th>0</th>\n",
              "      <td>Start Date</td>\n",
              "      <td>End Date</td>\n",
              "      <td>Response Type</td>\n",
              "      <td>IP Address</td>\n",
              "      <td>Progress</td>\n",
              "      <td>Duration (in seconds)</td>\n",
              "      <td>Finished</td>\n",
              "      <td>Recorded Date</td>\n",
              "      <td>Response ID</td>\n",
              "      <td>Recipient Last Name</td>\n",
              "      <td>...</td>\n",
              "      <td>Rate your overall level of satisfaction with y...</td>\n",
              "      <td>Rate your level of agreement with the followin...</td>\n",
              "      <td>Rate your level of agreement with the followin...</td>\n",
              "      <td>Rate your level of agreement with the followin...</td>\n",
              "      <td>Rate your level of agreement with the followin...</td>\n",
              "      <td>Rate your level of agreement with the followin...</td>\n",
              "      <td>Rate your level of agreement with the followin...</td>\n",
              "      <td>Rate your level of agreement with the followin...</td>\n",
              "      <td>Are there any other factors that you feel have...</td>\n",
              "      <td>Are there any other factors that you feel have...</td>\n",
              "    </tr>\n",
              "    <tr>\n",
              "      <th>1</th>\n",
              "      <td>{\"ImportId\":\"startDate\",\"timeZone\":\"America/De...</td>\n",
              "      <td>{\"ImportId\":\"endDate\",\"timeZone\":\"America/Denv...</td>\n",
              "      <td>{\"ImportId\":\"status\"}</td>\n",
              "      <td>{\"ImportId\":\"ipAddress\"}</td>\n",
              "      <td>{\"ImportId\":\"progress\"}</td>\n",
              "      <td>{\"ImportId\":\"duration\"}</td>\n",
              "      <td>{\"ImportId\":\"finished\"}</td>\n",
              "      <td>{\"ImportId\":\"recordedDate\",\"timeZone\":\"America...</td>\n",
              "      <td>{\"ImportId\":\"_recordId\"}</td>\n",
              "      <td>{\"ImportId\":\"recipientLastName\"}</td>\n",
              "      <td>...</td>\n",
              "      <td>{\"ImportId\":\"QID11_1\"}</td>\n",
              "      <td>{\"ImportId\":\"QID5_1\"}</td>\n",
              "      <td>{\"ImportId\":\"QID5_2\"}</td>\n",
              "      <td>{\"ImportId\":\"QID5_3\"}</td>\n",
              "      <td>{\"ImportId\":\"QID5_4\"}</td>\n",
              "      <td>{\"ImportId\":\"QID5_5\"}</td>\n",
              "      <td>{\"ImportId\":\"QID5_6\"}</td>\n",
              "      <td>{\"ImportId\":\"QID5_7\"}</td>\n",
              "      <td>{\"ImportId\":\"QID26_TEXT\"}</td>\n",
              "      <td>{\"ImportId\":\"QID27_TEXT\"}</td>\n",
              "    </tr>\n",
              "    <tr>\n",
              "      <th>2</th>\n",
              "      <td>2023-09-22 08:57:28</td>\n",
              "      <td>2023-09-22 08:59:20</td>\n",
              "      <td>IP Address</td>\n",
              "      <td>71.167.85.248</td>\n",
              "      <td>38</td>\n",
              "      <td>112</td>\n",
              "      <td>False</td>\n",
              "      <td>2023-09-29 08:59:29</td>\n",
              "      <td>R_2zDgveyYVZMqDg0</td>\n",
              "      <td>NaN</td>\n",
              "      <td>...</td>\n",
              "      <td>NaN</td>\n",
              "      <td>NaN</td>\n",
              "      <td>NaN</td>\n",
              "      <td>NaN</td>\n",
              "      <td>NaN</td>\n",
              "      <td>NaN</td>\n",
              "      <td>NaN</td>\n",
              "      <td>NaN</td>\n",
              "      <td>NaN</td>\n",
              "      <td>NaN</td>\n",
              "    </tr>\n",
              "    <tr>\n",
              "      <th>3</th>\n",
              "      <td>2023-10-04 05:41:23</td>\n",
              "      <td>2023-10-04 05:41:29</td>\n",
              "      <td>IP Address</td>\n",
              "      <td>24.47.33.117</td>\n",
              "      <td>8</td>\n",
              "      <td>6</td>\n",
              "      <td>False</td>\n",
              "      <td>2023-10-11 05:41:33</td>\n",
              "      <td>R_1IARJXPgmD4kX33</td>\n",
              "      <td>NaN</td>\n",
              "      <td>...</td>\n",
              "      <td>NaN</td>\n",
              "      <td>NaN</td>\n",
              "      <td>NaN</td>\n",
              "      <td>NaN</td>\n",
              "      <td>NaN</td>\n",
              "      <td>NaN</td>\n",
              "      <td>NaN</td>\n",
              "      <td>NaN</td>\n",
              "      <td>NaN</td>\n",
              "      <td>NaN</td>\n",
              "    </tr>\n",
              "    <tr>\n",
              "      <th>4</th>\n",
              "      <td>2023-10-19 13:04:38</td>\n",
              "      <td>2023-10-19 13:04:46</td>\n",
              "      <td>IP Address</td>\n",
              "      <td>12.182.255.254</td>\n",
              "      <td>100</td>\n",
              "      <td>8</td>\n",
              "      <td>True</td>\n",
              "      <td>2023-10-19 13:04:48</td>\n",
              "      <td>R_wRJl4Yqyed8EJ6V</td>\n",
              "      <td>NaN</td>\n",
              "      <td>...</td>\n",
              "      <td>NaN</td>\n",
              "      <td>NaN</td>\n",
              "      <td>NaN</td>\n",
              "      <td>NaN</td>\n",
              "      <td>NaN</td>\n",
              "      <td>NaN</td>\n",
              "      <td>NaN</td>\n",
              "      <td>NaN</td>\n",
              "      <td>NaN</td>\n",
              "      <td>NaN</td>\n",
              "    </tr>\n",
              "  </tbody>\n",
              "</table>\n",
              "<p>5 rows × 40 columns</p>\n",
              "</div>\n",
              "    <div class=\"colab-df-buttons\">\n",
              "\n",
              "  <div class=\"colab-df-container\">\n",
              "    <button class=\"colab-df-convert\" onclick=\"convertToInteractive('df-98b26ce4-e180-4b35-8d26-723d6c24ea9e')\"\n",
              "            title=\"Convert this dataframe to an interactive table.\"\n",
              "            style=\"display:none;\">\n",
              "\n",
              "  <svg xmlns=\"http://www.w3.org/2000/svg\" height=\"24px\" viewBox=\"0 -960 960 960\">\n",
              "    <path d=\"M120-120v-720h720v720H120Zm60-500h600v-160H180v160Zm220 220h160v-160H400v160Zm0 220h160v-160H400v160ZM180-400h160v-160H180v160Zm440 0h160v-160H620v160ZM180-180h160v-160H180v160Zm440 0h160v-160H620v160Z\"/>\n",
              "  </svg>\n",
              "    </button>\n",
              "\n",
              "  <style>\n",
              "    .colab-df-container {\n",
              "      display:flex;\n",
              "      gap: 12px;\n",
              "    }\n",
              "\n",
              "    .colab-df-convert {\n",
              "      background-color: #E8F0FE;\n",
              "      border: none;\n",
              "      border-radius: 50%;\n",
              "      cursor: pointer;\n",
              "      display: none;\n",
              "      fill: #1967D2;\n",
              "      height: 32px;\n",
              "      padding: 0 0 0 0;\n",
              "      width: 32px;\n",
              "    }\n",
              "\n",
              "    .colab-df-convert:hover {\n",
              "      background-color: #E2EBFA;\n",
              "      box-shadow: 0px 1px 2px rgba(60, 64, 67, 0.3), 0px 1px 3px 1px rgba(60, 64, 67, 0.15);\n",
              "      fill: #174EA6;\n",
              "    }\n",
              "\n",
              "    .colab-df-buttons div {\n",
              "      margin-bottom: 4px;\n",
              "    }\n",
              "\n",
              "    [theme=dark] .colab-df-convert {\n",
              "      background-color: #3B4455;\n",
              "      fill: #D2E3FC;\n",
              "    }\n",
              "\n",
              "    [theme=dark] .colab-df-convert:hover {\n",
              "      background-color: #434B5C;\n",
              "      box-shadow: 0px 1px 3px 1px rgba(0, 0, 0, 0.15);\n",
              "      filter: drop-shadow(0px 1px 2px rgba(0, 0, 0, 0.3));\n",
              "      fill: #FFFFFF;\n",
              "    }\n",
              "  </style>\n",
              "\n",
              "    <script>\n",
              "      const buttonEl =\n",
              "        document.querySelector('#df-98b26ce4-e180-4b35-8d26-723d6c24ea9e button.colab-df-convert');\n",
              "      buttonEl.style.display =\n",
              "        google.colab.kernel.accessAllowed ? 'block' : 'none';\n",
              "\n",
              "      async function convertToInteractive(key) {\n",
              "        const element = document.querySelector('#df-98b26ce4-e180-4b35-8d26-723d6c24ea9e');\n",
              "        const dataTable =\n",
              "          await google.colab.kernel.invokeFunction('convertToInteractive',\n",
              "                                                    [key], {});\n",
              "        if (!dataTable) return;\n",
              "\n",
              "        const docLinkHtml = 'Like what you see? Visit the ' +\n",
              "          '<a target=\"_blank\" href=https://colab.research.google.com/notebooks/data_table.ipynb>data table notebook</a>'\n",
              "          + ' to learn more about interactive tables.';\n",
              "        element.innerHTML = '';\n",
              "        dataTable['output_type'] = 'display_data';\n",
              "        await google.colab.output.renderOutput(dataTable, element);\n",
              "        const docLink = document.createElement('div');\n",
              "        docLink.innerHTML = docLinkHtml;\n",
              "        element.appendChild(docLink);\n",
              "      }\n",
              "    </script>\n",
              "  </div>\n",
              "\n",
              "\n",
              "<div id=\"df-5e178f73-e6f8-4c76-9e82-19ea5e4990a6\">\n",
              "  <button class=\"colab-df-quickchart\" onclick=\"quickchart('df-5e178f73-e6f8-4c76-9e82-19ea5e4990a6')\"\n",
              "            title=\"Suggest charts\"\n",
              "            style=\"display:none;\">\n",
              "\n",
              "<svg xmlns=\"http://www.w3.org/2000/svg\" height=\"24px\"viewBox=\"0 0 24 24\"\n",
              "     width=\"24px\">\n",
              "    <g>\n",
              "        <path d=\"M19 3H5c-1.1 0-2 .9-2 2v14c0 1.1.9 2 2 2h14c1.1 0 2-.9 2-2V5c0-1.1-.9-2-2-2zM9 17H7v-7h2v7zm4 0h-2V7h2v10zm4 0h-2v-4h2v4z\"/>\n",
              "    </g>\n",
              "</svg>\n",
              "  </button>\n",
              "\n",
              "<style>\n",
              "  .colab-df-quickchart {\n",
              "      --bg-color: #E8F0FE;\n",
              "      --fill-color: #1967D2;\n",
              "      --hover-bg-color: #E2EBFA;\n",
              "      --hover-fill-color: #174EA6;\n",
              "      --disabled-fill-color: #AAA;\n",
              "      --disabled-bg-color: #DDD;\n",
              "  }\n",
              "\n",
              "  [theme=dark] .colab-df-quickchart {\n",
              "      --bg-color: #3B4455;\n",
              "      --fill-color: #D2E3FC;\n",
              "      --hover-bg-color: #434B5C;\n",
              "      --hover-fill-color: #FFFFFF;\n",
              "      --disabled-bg-color: #3B4455;\n",
              "      --disabled-fill-color: #666;\n",
              "  }\n",
              "\n",
              "  .colab-df-quickchart {\n",
              "    background-color: var(--bg-color);\n",
              "    border: none;\n",
              "    border-radius: 50%;\n",
              "    cursor: pointer;\n",
              "    display: none;\n",
              "    fill: var(--fill-color);\n",
              "    height: 32px;\n",
              "    padding: 0;\n",
              "    width: 32px;\n",
              "  }\n",
              "\n",
              "  .colab-df-quickchart:hover {\n",
              "    background-color: var(--hover-bg-color);\n",
              "    box-shadow: 0 1px 2px rgba(60, 64, 67, 0.3), 0 1px 3px 1px rgba(60, 64, 67, 0.15);\n",
              "    fill: var(--button-hover-fill-color);\n",
              "  }\n",
              "\n",
              "  .colab-df-quickchart-complete:disabled,\n",
              "  .colab-df-quickchart-complete:disabled:hover {\n",
              "    background-color: var(--disabled-bg-color);\n",
              "    fill: var(--disabled-fill-color);\n",
              "    box-shadow: none;\n",
              "  }\n",
              "\n",
              "  .colab-df-spinner {\n",
              "    border: 2px solid var(--fill-color);\n",
              "    border-color: transparent;\n",
              "    border-bottom-color: var(--fill-color);\n",
              "    animation:\n",
              "      spin 1s steps(1) infinite;\n",
              "  }\n",
              "\n",
              "  @keyframes spin {\n",
              "    0% {\n",
              "      border-color: transparent;\n",
              "      border-bottom-color: var(--fill-color);\n",
              "      border-left-color: var(--fill-color);\n",
              "    }\n",
              "    20% {\n",
              "      border-color: transparent;\n",
              "      border-left-color: var(--fill-color);\n",
              "      border-top-color: var(--fill-color);\n",
              "    }\n",
              "    30% {\n",
              "      border-color: transparent;\n",
              "      border-left-color: var(--fill-color);\n",
              "      border-top-color: var(--fill-color);\n",
              "      border-right-color: var(--fill-color);\n",
              "    }\n",
              "    40% {\n",
              "      border-color: transparent;\n",
              "      border-right-color: var(--fill-color);\n",
              "      border-top-color: var(--fill-color);\n",
              "    }\n",
              "    60% {\n",
              "      border-color: transparent;\n",
              "      border-right-color: var(--fill-color);\n",
              "    }\n",
              "    80% {\n",
              "      border-color: transparent;\n",
              "      border-right-color: var(--fill-color);\n",
              "      border-bottom-color: var(--fill-color);\n",
              "    }\n",
              "    90% {\n",
              "      border-color: transparent;\n",
              "      border-bottom-color: var(--fill-color);\n",
              "    }\n",
              "  }\n",
              "</style>\n",
              "\n",
              "  <script>\n",
              "    async function quickchart(key) {\n",
              "      const quickchartButtonEl =\n",
              "        document.querySelector('#' + key + ' button');\n",
              "      quickchartButtonEl.disabled = true;  // To prevent multiple clicks.\n",
              "      quickchartButtonEl.classList.add('colab-df-spinner');\n",
              "      try {\n",
              "        const charts = await google.colab.kernel.invokeFunction(\n",
              "            'suggestCharts', [key], {});\n",
              "      } catch (error) {\n",
              "        console.error('Error during call to suggestCharts:', error);\n",
              "      }\n",
              "      quickchartButtonEl.classList.remove('colab-df-spinner');\n",
              "      quickchartButtonEl.classList.add('colab-df-quickchart-complete');\n",
              "    }\n",
              "    (() => {\n",
              "      let quickchartButtonEl =\n",
              "        document.querySelector('#df-5e178f73-e6f8-4c76-9e82-19ea5e4990a6 button');\n",
              "      quickchartButtonEl.style.display =\n",
              "        google.colab.kernel.accessAllowed ? 'block' : 'none';\n",
              "    })();\n",
              "  </script>\n",
              "</div>\n",
              "    </div>\n",
              "  </div>\n"
            ]
          },
          "metadata": {},
          "execution_count": 46
        }
      ]
    },
    {
      "cell_type": "code",
      "source": [
        "import pandas as pd\n",
        "\n",
        "# Assuming survey_data is your DataFrame\n",
        "pd.set_option('display.max_rows', None)\n",
        "\n",
        "# Display the entire DataFrame\n",
        "print(survey_data)\n",
        "\n",
        "# Reset the display option to the default (if needed)\n",
        "pd.reset_option('display.max_rows')\n"
      ],
      "metadata": {
        "colab": {
          "base_uri": "https://localhost:8080/"
        },
        "id": "L1B_TIG2gDch",
        "outputId": "674f5f96-b035-4d77-f3f4-e13aa877286e"
      },
      "execution_count": 47,
      "outputs": [
        {
          "output_type": "stream",
          "name": "stdout",
          "text": [
            "                                            StartDate  \\\n",
            "0                                          Start Date   \n",
            "1   {\"ImportId\":\"startDate\",\"timeZone\":\"America/De...   \n",
            "2                                 2023-09-22 08:57:28   \n",
            "3                                 2023-10-04 05:41:23   \n",
            "4                                 2023-10-19 13:04:38   \n",
            "5                                 2023-10-19 18:16:03   \n",
            "6                                 2023-10-20 20:54:51   \n",
            "7                                 2023-10-19 12:36:14   \n",
            "8                                 2023-11-05 10:27:54   \n",
            "9                                 2023-11-09 10:51:43   \n",
            "10                                2023-11-21 13:19:38   \n",
            "11                                2023-11-21 13:39:03   \n",
            "12                                2023-11-21 15:41:40   \n",
            "13                                2023-11-21 15:45:17   \n",
            "14                                2023-11-21 16:54:31   \n",
            "15                                2023-11-15 16:08:44   \n",
            "\n",
            "                                              EndDate                 Status  \\\n",
            "0                                            End Date          Response Type   \n",
            "1   {\"ImportId\":\"endDate\",\"timeZone\":\"America/Denv...  {\"ImportId\":\"status\"}   \n",
            "2                                 2023-09-22 08:59:20             IP Address   \n",
            "3                                 2023-10-04 05:41:29             IP Address   \n",
            "4                                 2023-10-19 13:04:46             IP Address   \n",
            "5                                 2023-10-19 18:16:29             IP Address   \n",
            "6                                 2023-10-20 21:00:28             IP Address   \n",
            "7                                 2023-10-19 12:36:40             IP Address   \n",
            "8                                 2023-11-05 10:28:06             IP Address   \n",
            "9                                 2023-11-09 10:52:08             IP Address   \n",
            "10                                2023-11-21 13:38:59             IP Address   \n",
            "11                                2023-11-21 13:41:46             IP Address   \n",
            "12                                2023-11-21 15:43:55             IP Address   \n",
            "13                                2023-11-21 15:49:45             IP Address   \n",
            "14                                2023-11-21 16:57:23             IP Address   \n",
            "15                                2023-11-15 16:09:06             IP Address   \n",
            "\n",
            "                   IPAddress                 Progress  \\\n",
            "0                 IP Address                 Progress   \n",
            "1   {\"ImportId\":\"ipAddress\"}  {\"ImportId\":\"progress\"}   \n",
            "2              71.167.85.248                       38   \n",
            "3               24.47.33.117                        8   \n",
            "4             12.182.255.254                      100   \n",
            "5             32.213.169.253                      100   \n",
            "6              108.30.78.120                      100   \n",
            "7             148.76.112.108                       15   \n",
            "8              72.13.154.202                      100   \n",
            "9              129.49.100.22                      100   \n",
            "10             69.112.48.113                      100   \n",
            "11             69.112.48.113                      100   \n",
            "12            69.124.211.160                      100   \n",
            "13            69.124.211.160                      100   \n",
            "14             107.77.226.12                      100   \n",
            "15              47.16.57.166                       15   \n",
            "\n",
            "      Duration (in seconds)                 Finished  \\\n",
            "0     Duration (in seconds)                 Finished   \n",
            "1   {\"ImportId\":\"duration\"}  {\"ImportId\":\"finished\"}   \n",
            "2                       112                    False   \n",
            "3                         6                    False   \n",
            "4                         8                     True   \n",
            "5                        25                     True   \n",
            "6                       336                     True   \n",
            "7                        25                    False   \n",
            "8                        12                     True   \n",
            "9                        25                     True   \n",
            "10                     1160                     True   \n",
            "11                      163                     True   \n",
            "12                      134                     True   \n",
            "13                      268                     True   \n",
            "14                      171                     True   \n",
            "15                       21                    False   \n",
            "\n",
            "                                         RecordedDate  \\\n",
            "0                                       Recorded Date   \n",
            "1   {\"ImportId\":\"recordedDate\",\"timeZone\":\"America...   \n",
            "2                                 2023-09-29 08:59:29   \n",
            "3                                 2023-10-11 05:41:33   \n",
            "4                                 2023-10-19 13:04:48   \n",
            "5                                 2023-10-19 18:16:30   \n",
            "6                                 2023-10-20 21:00:29   \n",
            "7                                 2023-10-26 12:36:41   \n",
            "8                                 2023-11-05 10:28:07   \n",
            "9                                 2023-11-09 10:52:09   \n",
            "10                                2023-11-21 13:38:59   \n",
            "11                                2023-11-21 13:41:47   \n",
            "12                                2023-11-21 15:43:56   \n",
            "13                                2023-11-21 15:49:46   \n",
            "14                                2023-11-21 16:57:24   \n",
            "15                                2023-11-22 16:09:08   \n",
            "\n",
            "                  ResponseId                 RecipientLastName  ...  \\\n",
            "0                Response ID               Recipient Last Name  ...   \n",
            "1   {\"ImportId\":\"_recordId\"}  {\"ImportId\":\"recipientLastName\"}  ...   \n",
            "2          R_2zDgveyYVZMqDg0                               NaN  ...   \n",
            "3          R_1IARJXPgmD4kX33                               NaN  ...   \n",
            "4          R_wRJl4Yqyed8EJ6V                               NaN  ...   \n",
            "5          R_2duzFvKBDPaNgbY                               NaN  ...   \n",
            "6          R_1KxVC2ZBluK42f7                               NaN  ...   \n",
            "7          R_3paIoHdrZBIeHMw                               NaN  ...   \n",
            "8          R_2am0Q1GJW1MNA8d                               NaN  ...   \n",
            "9          R_10IzKABIcuqDdQm                               NaN  ...   \n",
            "10         R_Pu3SzLwcTL02YjD                               NaN  ...   \n",
            "11         R_3kCdgDlew1RWOTN                               NaN  ...   \n",
            "12         R_33k8Nfl7tS2HhSM                               NaN  ...   \n",
            "13         R_1Cvh21HA278a0o3                               NaN  ...   \n",
            "14         R_3j9A0gbgH9Zk6J6                               NaN  ...   \n",
            "15         R_1M047qsO5JvUgUj                               NaN  ...   \n",
            "\n",
            "                                                 Q5_1  \\\n",
            "0   Rate your overall level of satisfaction with y...   \n",
            "1                              {\"ImportId\":\"QID11_1\"}   \n",
            "2                                                 NaN   \n",
            "3                                                 NaN   \n",
            "4                                                 NaN   \n",
            "5                                                 NaN   \n",
            "6                                                   7   \n",
            "7                                                 NaN   \n",
            "8                                                 NaN   \n",
            "9                                                 NaN   \n",
            "10                                                NaN   \n",
            "11                                                  6   \n",
            "12                                                NaN   \n",
            "13                                                  6   \n",
            "14                                                  5   \n",
            "15                                                NaN   \n",
            "\n",
            "                                                 Q6_1  \\\n",
            "0   Rate your level of agreement with the followin...   \n",
            "1                               {\"ImportId\":\"QID5_1\"}   \n",
            "2                                                 NaN   \n",
            "3                                                 NaN   \n",
            "4                                                 NaN   \n",
            "5                                                 NaN   \n",
            "6                                                   6   \n",
            "7                                                 NaN   \n",
            "8                                                 NaN   \n",
            "9                                                 NaN   \n",
            "10                                                NaN   \n",
            "11                                                  5   \n",
            "12                                                NaN   \n",
            "13                                                  7   \n",
            "14                                                  5   \n",
            "15                                                NaN   \n",
            "\n",
            "                                                 Q6_2  \\\n",
            "0   Rate your level of agreement with the followin...   \n",
            "1                               {\"ImportId\":\"QID5_2\"}   \n",
            "2                                                 NaN   \n",
            "3                                                 NaN   \n",
            "4                                                 NaN   \n",
            "5                                                 NaN   \n",
            "6                                                   5   \n",
            "7                                                 NaN   \n",
            "8                                                 NaN   \n",
            "9                                                 NaN   \n",
            "10                                                NaN   \n",
            "11                                                  3   \n",
            "12                                                NaN   \n",
            "13                                                  6   \n",
            "14                                                  5   \n",
            "15                                                NaN   \n",
            "\n",
            "                                                 Q6_3  \\\n",
            "0   Rate your level of agreement with the followin...   \n",
            "1                               {\"ImportId\":\"QID5_3\"}   \n",
            "2                                                 NaN   \n",
            "3                                                 NaN   \n",
            "4                                                 NaN   \n",
            "5                                                 NaN   \n",
            "6                                                   1   \n",
            "7                                                 NaN   \n",
            "8                                                 NaN   \n",
            "9                                                 NaN   \n",
            "10                                                NaN   \n",
            "11                                                  7   \n",
            "12                                                NaN   \n",
            "13                                                  6   \n",
            "14                                                  5   \n",
            "15                                                NaN   \n",
            "\n",
            "                                                 Q6_4  \\\n",
            "0   Rate your level of agreement with the followin...   \n",
            "1                               {\"ImportId\":\"QID5_4\"}   \n",
            "2                                                 NaN   \n",
            "3                                                 NaN   \n",
            "4                                                 NaN   \n",
            "5                                                 NaN   \n",
            "6                                                   5   \n",
            "7                                                 NaN   \n",
            "8                                                 NaN   \n",
            "9                                                 NaN   \n",
            "10                                                NaN   \n",
            "11                                                  3   \n",
            "12                                                NaN   \n",
            "13                                                  5   \n",
            "14                                                  4   \n",
            "15                                                NaN   \n",
            "\n",
            "                                                 Q6_5  \\\n",
            "0   Rate your level of agreement with the followin...   \n",
            "1                               {\"ImportId\":\"QID5_5\"}   \n",
            "2                                                 NaN   \n",
            "3                                                 NaN   \n",
            "4                                                 NaN   \n",
            "5                                                 NaN   \n",
            "6                                                   4   \n",
            "7                                                 NaN   \n",
            "8                                                 NaN   \n",
            "9                                                 NaN   \n",
            "10                                                NaN   \n",
            "11                                                  7   \n",
            "12                                                NaN   \n",
            "13                                                  6   \n",
            "14                                                  3   \n",
            "15                                                NaN   \n",
            "\n",
            "                                                 Q6_6  \\\n",
            "0   Rate your level of agreement with the followin...   \n",
            "1                               {\"ImportId\":\"QID5_6\"}   \n",
            "2                                                 NaN   \n",
            "3                                                 NaN   \n",
            "4                                                 NaN   \n",
            "5                                                 NaN   \n",
            "6                                                   4   \n",
            "7                                                 NaN   \n",
            "8                                                 NaN   \n",
            "9                                                 NaN   \n",
            "10                                                NaN   \n",
            "11                                                  2   \n",
            "12                                                NaN   \n",
            "13                                                  5   \n",
            "14                                                  5   \n",
            "15                                                NaN   \n",
            "\n",
            "                                                 Q6_7  \\\n",
            "0   Rate your level of agreement with the followin...   \n",
            "1                               {\"ImportId\":\"QID5_7\"}   \n",
            "2                                                 NaN   \n",
            "3                                                 NaN   \n",
            "4                                                 NaN   \n",
            "5                                                 NaN   \n",
            "6                                                   7   \n",
            "7                                                 NaN   \n",
            "8                                                 NaN   \n",
            "9                                                 NaN   \n",
            "10                                                NaN   \n",
            "11                                                  4   \n",
            "12                                                NaN   \n",
            "13                                                  6   \n",
            "14                                                  4   \n",
            "15                                                NaN   \n",
            "\n",
            "                                                  Q13  \\\n",
            "0   Are there any other factors that you feel have...   \n",
            "1                           {\"ImportId\":\"QID26_TEXT\"}   \n",
            "2                                                 NaN   \n",
            "3                                                 NaN   \n",
            "4                                                 NaN   \n",
            "5                                                 NaN   \n",
            "6        The connection with the therapist was great.   \n",
            "7                                                 NaN   \n",
            "8                                                 NaN   \n",
            "9                                                 NaN   \n",
            "10                                                NaN   \n",
            "11  Our speech therapist was very flexible with ap...   \n",
            "12                                                NaN   \n",
            "13                      The convenience of no travel.   \n",
            "14                                                NaN   \n",
            "15                                                NaN   \n",
            "\n",
            "                                                  Q14  \n",
            "0   Are there any other factors that you feel have...  \n",
            "1                           {\"ImportId\":\"QID27_TEXT\"}  \n",
            "2                                                 NaN  \n",
            "3                                                 NaN  \n",
            "4                                                 NaN  \n",
            "5                                                 NaN  \n",
            "6   My child’s experience was positive. The sessio...  \n",
            "7                                                 NaN  \n",
            "8                                                 NaN  \n",
            "9                                                 NaN  \n",
            "10                                                NaN  \n",
            "11  Technological issues and lack of in-person edu...  \n",
            "12                                                NaN  \n",
            "13                                                 No  \n",
            "14                                                NaN  \n",
            "15                                                NaN  \n",
            "\n",
            "[16 rows x 40 columns]\n"
          ]
        }
      ]
    },
    {
      "cell_type": "code",
      "source": [
        "# Display the current column names in your DataFrame\n",
        "print(df.columns)\n"
      ],
      "metadata": {
        "colab": {
          "base_uri": "https://localhost:8080/"
        },
        "id": "NqVadHDKgkr_",
        "outputId": "03c23cab-b612-4d0b-e422-4da428e49da6"
      },
      "execution_count": 48,
      "outputs": [
        {
          "output_type": "stream",
          "name": "stdout",
          "text": [
            "Index(['StartDate', 'EndDate', 'Status', 'IPAddress', 'Progress',\n",
            "       'Duration (in seconds)', 'Finished', 'RecordedDate', 'ResponseId',\n",
            "       'RecipientLastName', 'RecipientFirstName', 'RecipientEmail',\n",
            "       'ExternalReference', 'LocationLatitude', 'LocationLongitude',\n",
            "       'DistributionChannel', 'UserLanguage', 'Consent', 'Q', 'Q.1', 'Q.2',\n",
            "       'Q_2_TEXT', 'Q.3', 'Q_2_TEXT.1', 'Q1', 'Q1_6_TEXT', 'Q2', 'Q3', 'Q4',\n",
            "       'Q4_2_TEXT', 'Q5_1', 'Q6_1', 'Q6_2', 'Q6_3', 'Q6_4', 'Q6_5', 'Q6_6',\n",
            "       'Q6_7', 'Q13', 'Q14'],\n",
            "      dtype='object')\n"
          ]
        }
      ]
    },
    {
      "cell_type": "code",
      "source": [
        "# Display the updated columns\n",
        "print(survey_data.columns)"
      ],
      "metadata": {
        "colab": {
          "base_uri": "https://localhost:8080/"
        },
        "id": "crGBHWqP-5u5",
        "outputId": "6b2e47b4-e3d9-486f-e502-29e20d9e88b2"
      },
      "execution_count": 49,
      "outputs": [
        {
          "output_type": "stream",
          "name": "stdout",
          "text": [
            "Index(['StartDate', 'EndDate', 'Status', 'IPAddress', 'Progress',\n",
            "       'Duration (in seconds)', 'Finished', 'RecordedDate', 'ResponseId',\n",
            "       'RecipientLastName', 'RecipientFirstName', 'RecipientEmail',\n",
            "       'ExternalReference', 'LocationLatitude', 'LocationLongitude',\n",
            "       'DistributionChannel', 'UserLanguage', 'Consent', 'Q', 'Q.1', 'Q.2',\n",
            "       'Q_2_TEXT', 'Q.3', 'Q_2_TEXT.1', 'Q1', 'Q1_6_TEXT', 'Q2', 'Q3', 'Q4',\n",
            "       'Q4_2_TEXT', 'Q5_1', 'Q6_1', 'Q6_2', 'Q6_3', 'Q6_4', 'Q6_5', 'Q6_6',\n",
            "       'Q6_7', 'Q13', 'Q14'],\n",
            "      dtype='object')\n"
          ]
        }
      ]
    },
    {
      "cell_type": "code",
      "source": [
        "import pandas as pd\n",
        "\n",
        "# Assuming df is your DataFrame\n",
        "\n",
        "# Display the current column names in your DataFrame\n",
        "print(df.columns)\n",
        "\n",
        "# Remove duplicate column names\n",
        "df = df.loc[:, ~df.columns.duplicated()]\n",
        "\n",
        "# List of columns to drop\n",
        "columns_to_drop = ['StartDate', 'EndDate', 'Status', 'Progress', 'Duration (in seconds)', 'Finished', 'RecordedDate',\n",
        "                   'ResponseId', 'DistributionChannel', 'UserLanguage', 'Q_RecaptchaScore']\n",
        "\n",
        "# Remove duplicate column names from the list\n",
        "columns_to_drop = list(set(columns_to_drop))\n",
        "\n",
        "# Display the remaining columns in the DataFrame\n",
        "print(df.columns)\n"
      ],
      "metadata": {
        "colab": {
          "base_uri": "https://localhost:8080/"
        },
        "id": "BWcC9kGFhcNZ",
        "outputId": "553b00a3-c674-4622-d665-ad676efe3ad5"
      },
      "execution_count": 50,
      "outputs": [
        {
          "output_type": "stream",
          "name": "stdout",
          "text": [
            "Index(['StartDate', 'EndDate', 'Status', 'IPAddress', 'Progress',\n",
            "       'Duration (in seconds)', 'Finished', 'RecordedDate', 'ResponseId',\n",
            "       'RecipientLastName', 'RecipientFirstName', 'RecipientEmail',\n",
            "       'ExternalReference', 'LocationLatitude', 'LocationLongitude',\n",
            "       'DistributionChannel', 'UserLanguage', 'Consent', 'Q', 'Q.1', 'Q.2',\n",
            "       'Q_2_TEXT', 'Q.3', 'Q_2_TEXT.1', 'Q1', 'Q1_6_TEXT', 'Q2', 'Q3', 'Q4',\n",
            "       'Q4_2_TEXT', 'Q5_1', 'Q6_1', 'Q6_2', 'Q6_3', 'Q6_4', 'Q6_5', 'Q6_6',\n",
            "       'Q6_7', 'Q13', 'Q14'],\n",
            "      dtype='object')\n",
            "Index(['StartDate', 'EndDate', 'Status', 'IPAddress', 'Progress',\n",
            "       'Duration (in seconds)', 'Finished', 'RecordedDate', 'ResponseId',\n",
            "       'RecipientLastName', 'RecipientFirstName', 'RecipientEmail',\n",
            "       'ExternalReference', 'LocationLatitude', 'LocationLongitude',\n",
            "       'DistributionChannel', 'UserLanguage', 'Consent', 'Q', 'Q.1', 'Q.2',\n",
            "       'Q_2_TEXT', 'Q.3', 'Q_2_TEXT.1', 'Q1', 'Q1_6_TEXT', 'Q2', 'Q3', 'Q4',\n",
            "       'Q4_2_TEXT', 'Q5_1', 'Q6_1', 'Q6_2', 'Q6_3', 'Q6_4', 'Q6_5', 'Q6_6',\n",
            "       'Q6_7', 'Q13', 'Q14'],\n",
            "      dtype='object')\n"
          ]
        }
      ]
    },
    {
      "cell_type": "code",
      "source": [
        "import pandas as pd\n",
        "\n",
        "# Assuming survey_data is DataFrame\n",
        "\n",
        "# Display the current column names in your DataFrame\n",
        "print(survey_data.columns)\n",
        "\n",
        "# Remove duplicate column names\n",
        "df = df.loc[:, ~survey_data.columns.duplicated()]\n",
        "\n",
        "# List of columns to drop\n",
        "columns_to_drop = ['StartDate', 'EndDate', 'Status', 'Progress', 'Duration (in seconds)', 'Finished', 'RecordedDate',\n",
        "                   'ResponseId', 'DistributionChannel', 'UserLanguage', 'Q_RecaptchaScore']\n",
        "\n",
        "# Remove duplicate column names from the list\n",
        "columns_to_drop = list(set(columns_to_drop))\n",
        "\n",
        "# Display the remaining columns in the DataFrame\n",
        "print(survey_data.columns)"
      ],
      "metadata": {
        "colab": {
          "base_uri": "https://localhost:8080/"
        },
        "id": "q9LlAeOY_HUn",
        "outputId": "f63aa154-2bd1-4c20-c17b-0daa2f50c064"
      },
      "execution_count": 51,
      "outputs": [
        {
          "output_type": "stream",
          "name": "stdout",
          "text": [
            "Index(['StartDate', 'EndDate', 'Status', 'IPAddress', 'Progress',\n",
            "       'Duration (in seconds)', 'Finished', 'RecordedDate', 'ResponseId',\n",
            "       'RecipientLastName', 'RecipientFirstName', 'RecipientEmail',\n",
            "       'ExternalReference', 'LocationLatitude', 'LocationLongitude',\n",
            "       'DistributionChannel', 'UserLanguage', 'Consent', 'Q', 'Q.1', 'Q.2',\n",
            "       'Q_2_TEXT', 'Q.3', 'Q_2_TEXT.1', 'Q1', 'Q1_6_TEXT', 'Q2', 'Q3', 'Q4',\n",
            "       'Q4_2_TEXT', 'Q5_1', 'Q6_1', 'Q6_2', 'Q6_3', 'Q6_4', 'Q6_5', 'Q6_6',\n",
            "       'Q6_7', 'Q13', 'Q14'],\n",
            "      dtype='object')\n",
            "Index(['StartDate', 'EndDate', 'Status', 'IPAddress', 'Progress',\n",
            "       'Duration (in seconds)', 'Finished', 'RecordedDate', 'ResponseId',\n",
            "       'RecipientLastName', 'RecipientFirstName', 'RecipientEmail',\n",
            "       'ExternalReference', 'LocationLatitude', 'LocationLongitude',\n",
            "       'DistributionChannel', 'UserLanguage', 'Consent', 'Q', 'Q.1', 'Q.2',\n",
            "       'Q_2_TEXT', 'Q.3', 'Q_2_TEXT.1', 'Q1', 'Q1_6_TEXT', 'Q2', 'Q3', 'Q4',\n",
            "       'Q4_2_TEXT', 'Q5_1', 'Q6_1', 'Q6_2', 'Q6_3', 'Q6_4', 'Q6_5', 'Q6_6',\n",
            "       'Q6_7', 'Q13', 'Q14'],\n",
            "      dtype='object')\n"
          ]
        }
      ]
    },
    {
      "cell_type": "code",
      "source": [
        "df"
      ],
      "metadata": {
        "colab": {
          "base_uri": "https://localhost:8080/",
          "height": 863
        },
        "id": "CzkrUJ1Ch1sy",
        "outputId": "77e92bad-26e0-44e8-a542-3895d7103930"
      },
      "execution_count": 52,
      "outputs": [
        {
          "output_type": "execute_result",
          "data": {
            "text/plain": [
              "             StartDate              EndDate      Status       IPAddress  \\\n",
              "0  2023-10-19 13:04:38  2023-10-19 13:04:46  IP Address  12.182.255.254   \n",
              "1  2023-10-19 18:16:03  2023-10-19 18:16:29  IP Address  32.213.169.253   \n",
              "2  2023-10-20 20:54:51  2023-10-20 21:00:28  IP Address   108.30.78.120   \n",
              "3  2023-11-05 10:27:54  2023-11-05 10:28:06  IP Address   72.13.154.202   \n",
              "4  2023-11-09 10:51:43  2023-11-09 10:52:08  IP Address   129.49.100.22   \n",
              "5  2023-11-21 13:19:38  2023-11-21 13:38:59  IP Address   69.112.48.113   \n",
              "6  2023-11-21 13:39:03  2023-11-21 13:41:46  IP Address   69.112.48.113   \n",
              "7  2023-11-21 15:41:40  2023-11-21 15:43:55  IP Address  69.124.211.160   \n",
              "8  2023-11-21 15:45:17  2023-11-21 15:49:45  IP Address  69.124.211.160   \n",
              "9  2023-11-21 16:54:31  2023-11-21 16:57:23  IP Address   107.77.226.12   \n",
              "\n",
              "  Progress Duration (in seconds) Finished         RecordedDate  \\\n",
              "0      100                     8     True  2023-10-19 13:04:48   \n",
              "1      100                    25     True  2023-10-19 18:16:30   \n",
              "2      100                   336     True  2023-10-20 21:00:29   \n",
              "3      100                    12     True  2023-11-05 10:28:07   \n",
              "4      100                    25     True  2023-11-09 10:52:09   \n",
              "5      100                  1160     True  2023-11-21 13:38:59   \n",
              "6      100                   163     True  2023-11-21 13:41:47   \n",
              "7      100                   134     True  2023-11-21 15:43:56   \n",
              "8      100                   268     True  2023-11-21 15:49:46   \n",
              "9      100                   171     True  2023-11-21 16:57:24   \n",
              "\n",
              "          ResponseId RecipientLastName  ... Q5_1 Q6_1 Q6_2 Q6_3 Q6_4 Q6_5  \\\n",
              "0  R_wRJl4Yqyed8EJ6V               NaN  ...  NaN  NaN  NaN  NaN  NaN  NaN   \n",
              "1  R_2duzFvKBDPaNgbY               NaN  ...  NaN  NaN  NaN  NaN  NaN  NaN   \n",
              "2  R_1KxVC2ZBluK42f7               NaN  ...    7    6    5    1    5    4   \n",
              "3  R_2am0Q1GJW1MNA8d               NaN  ...  NaN  NaN  NaN  NaN  NaN  NaN   \n",
              "4  R_10IzKABIcuqDdQm               NaN  ...  NaN  NaN  NaN  NaN  NaN  NaN   \n",
              "5  R_Pu3SzLwcTL02YjD               NaN  ...  NaN  NaN  NaN  NaN  NaN  NaN   \n",
              "6  R_3kCdgDlew1RWOTN               NaN  ...    6    5    3    7    3    7   \n",
              "7  R_33k8Nfl7tS2HhSM               NaN  ...  NaN  NaN  NaN  NaN  NaN  NaN   \n",
              "8  R_1Cvh21HA278a0o3               NaN  ...    6    7    6    6    5    6   \n",
              "9  R_3j9A0gbgH9Zk6J6               NaN  ...    5    5    5    5    4    3   \n",
              "\n",
              "  Q6_6 Q6_7                                                Q13  \\\n",
              "0  NaN  NaN                                                NaN   \n",
              "1  NaN  NaN                                                NaN   \n",
              "2    4    7       The connection with the therapist was great.   \n",
              "3  NaN  NaN                                                NaN   \n",
              "4  NaN  NaN                                                NaN   \n",
              "5  NaN  NaN                                                NaN   \n",
              "6    2    4  Our speech therapist was very flexible with ap...   \n",
              "7  NaN  NaN                                                NaN   \n",
              "8    5    6                      The convenience of no travel.   \n",
              "9    5    4                                                NaN   \n",
              "\n",
              "                                                 Q14  \n",
              "0                                                NaN  \n",
              "1                                                NaN  \n",
              "2  My child’s experience was positive. The sessio...  \n",
              "3                                                NaN  \n",
              "4                                                NaN  \n",
              "5                                                NaN  \n",
              "6  Technological issues and lack of in-person edu...  \n",
              "7                                                NaN  \n",
              "8                                                 No  \n",
              "9                                                NaN  \n",
              "\n",
              "[10 rows x 40 columns]"
            ],
            "text/html": [
              "\n",
              "  <div id=\"df-8829256c-b596-4d31-8f28-e115aedc29b9\" class=\"colab-df-container\">\n",
              "    <div>\n",
              "<style scoped>\n",
              "    .dataframe tbody tr th:only-of-type {\n",
              "        vertical-align: middle;\n",
              "    }\n",
              "\n",
              "    .dataframe tbody tr th {\n",
              "        vertical-align: top;\n",
              "    }\n",
              "\n",
              "    .dataframe thead th {\n",
              "        text-align: right;\n",
              "    }\n",
              "</style>\n",
              "<table border=\"1\" class=\"dataframe\">\n",
              "  <thead>\n",
              "    <tr style=\"text-align: right;\">\n",
              "      <th></th>\n",
              "      <th>StartDate</th>\n",
              "      <th>EndDate</th>\n",
              "      <th>Status</th>\n",
              "      <th>IPAddress</th>\n",
              "      <th>Progress</th>\n",
              "      <th>Duration (in seconds)</th>\n",
              "      <th>Finished</th>\n",
              "      <th>RecordedDate</th>\n",
              "      <th>ResponseId</th>\n",
              "      <th>RecipientLastName</th>\n",
              "      <th>...</th>\n",
              "      <th>Q5_1</th>\n",
              "      <th>Q6_1</th>\n",
              "      <th>Q6_2</th>\n",
              "      <th>Q6_3</th>\n",
              "      <th>Q6_4</th>\n",
              "      <th>Q6_5</th>\n",
              "      <th>Q6_6</th>\n",
              "      <th>Q6_7</th>\n",
              "      <th>Q13</th>\n",
              "      <th>Q14</th>\n",
              "    </tr>\n",
              "  </thead>\n",
              "  <tbody>\n",
              "    <tr>\n",
              "      <th>0</th>\n",
              "      <td>2023-10-19 13:04:38</td>\n",
              "      <td>2023-10-19 13:04:46</td>\n",
              "      <td>IP Address</td>\n",
              "      <td>12.182.255.254</td>\n",
              "      <td>100</td>\n",
              "      <td>8</td>\n",
              "      <td>True</td>\n",
              "      <td>2023-10-19 13:04:48</td>\n",
              "      <td>R_wRJl4Yqyed8EJ6V</td>\n",
              "      <td>NaN</td>\n",
              "      <td>...</td>\n",
              "      <td>NaN</td>\n",
              "      <td>NaN</td>\n",
              "      <td>NaN</td>\n",
              "      <td>NaN</td>\n",
              "      <td>NaN</td>\n",
              "      <td>NaN</td>\n",
              "      <td>NaN</td>\n",
              "      <td>NaN</td>\n",
              "      <td>NaN</td>\n",
              "      <td>NaN</td>\n",
              "    </tr>\n",
              "    <tr>\n",
              "      <th>1</th>\n",
              "      <td>2023-10-19 18:16:03</td>\n",
              "      <td>2023-10-19 18:16:29</td>\n",
              "      <td>IP Address</td>\n",
              "      <td>32.213.169.253</td>\n",
              "      <td>100</td>\n",
              "      <td>25</td>\n",
              "      <td>True</td>\n",
              "      <td>2023-10-19 18:16:30</td>\n",
              "      <td>R_2duzFvKBDPaNgbY</td>\n",
              "      <td>NaN</td>\n",
              "      <td>...</td>\n",
              "      <td>NaN</td>\n",
              "      <td>NaN</td>\n",
              "      <td>NaN</td>\n",
              "      <td>NaN</td>\n",
              "      <td>NaN</td>\n",
              "      <td>NaN</td>\n",
              "      <td>NaN</td>\n",
              "      <td>NaN</td>\n",
              "      <td>NaN</td>\n",
              "      <td>NaN</td>\n",
              "    </tr>\n",
              "    <tr>\n",
              "      <th>2</th>\n",
              "      <td>2023-10-20 20:54:51</td>\n",
              "      <td>2023-10-20 21:00:28</td>\n",
              "      <td>IP Address</td>\n",
              "      <td>108.30.78.120</td>\n",
              "      <td>100</td>\n",
              "      <td>336</td>\n",
              "      <td>True</td>\n",
              "      <td>2023-10-20 21:00:29</td>\n",
              "      <td>R_1KxVC2ZBluK42f7</td>\n",
              "      <td>NaN</td>\n",
              "      <td>...</td>\n",
              "      <td>7</td>\n",
              "      <td>6</td>\n",
              "      <td>5</td>\n",
              "      <td>1</td>\n",
              "      <td>5</td>\n",
              "      <td>4</td>\n",
              "      <td>4</td>\n",
              "      <td>7</td>\n",
              "      <td>The connection with the therapist was great.</td>\n",
              "      <td>My child’s experience was positive. The sessio...</td>\n",
              "    </tr>\n",
              "    <tr>\n",
              "      <th>3</th>\n",
              "      <td>2023-11-05 10:27:54</td>\n",
              "      <td>2023-11-05 10:28:06</td>\n",
              "      <td>IP Address</td>\n",
              "      <td>72.13.154.202</td>\n",
              "      <td>100</td>\n",
              "      <td>12</td>\n",
              "      <td>True</td>\n",
              "      <td>2023-11-05 10:28:07</td>\n",
              "      <td>R_2am0Q1GJW1MNA8d</td>\n",
              "      <td>NaN</td>\n",
              "      <td>...</td>\n",
              "      <td>NaN</td>\n",
              "      <td>NaN</td>\n",
              "      <td>NaN</td>\n",
              "      <td>NaN</td>\n",
              "      <td>NaN</td>\n",
              "      <td>NaN</td>\n",
              "      <td>NaN</td>\n",
              "      <td>NaN</td>\n",
              "      <td>NaN</td>\n",
              "      <td>NaN</td>\n",
              "    </tr>\n",
              "    <tr>\n",
              "      <th>4</th>\n",
              "      <td>2023-11-09 10:51:43</td>\n",
              "      <td>2023-11-09 10:52:08</td>\n",
              "      <td>IP Address</td>\n",
              "      <td>129.49.100.22</td>\n",
              "      <td>100</td>\n",
              "      <td>25</td>\n",
              "      <td>True</td>\n",
              "      <td>2023-11-09 10:52:09</td>\n",
              "      <td>R_10IzKABIcuqDdQm</td>\n",
              "      <td>NaN</td>\n",
              "      <td>...</td>\n",
              "      <td>NaN</td>\n",
              "      <td>NaN</td>\n",
              "      <td>NaN</td>\n",
              "      <td>NaN</td>\n",
              "      <td>NaN</td>\n",
              "      <td>NaN</td>\n",
              "      <td>NaN</td>\n",
              "      <td>NaN</td>\n",
              "      <td>NaN</td>\n",
              "      <td>NaN</td>\n",
              "    </tr>\n",
              "    <tr>\n",
              "      <th>5</th>\n",
              "      <td>2023-11-21 13:19:38</td>\n",
              "      <td>2023-11-21 13:38:59</td>\n",
              "      <td>IP Address</td>\n",
              "      <td>69.112.48.113</td>\n",
              "      <td>100</td>\n",
              "      <td>1160</td>\n",
              "      <td>True</td>\n",
              "      <td>2023-11-21 13:38:59</td>\n",
              "      <td>R_Pu3SzLwcTL02YjD</td>\n",
              "      <td>NaN</td>\n",
              "      <td>...</td>\n",
              "      <td>NaN</td>\n",
              "      <td>NaN</td>\n",
              "      <td>NaN</td>\n",
              "      <td>NaN</td>\n",
              "      <td>NaN</td>\n",
              "      <td>NaN</td>\n",
              "      <td>NaN</td>\n",
              "      <td>NaN</td>\n",
              "      <td>NaN</td>\n",
              "      <td>NaN</td>\n",
              "    </tr>\n",
              "    <tr>\n",
              "      <th>6</th>\n",
              "      <td>2023-11-21 13:39:03</td>\n",
              "      <td>2023-11-21 13:41:46</td>\n",
              "      <td>IP Address</td>\n",
              "      <td>69.112.48.113</td>\n",
              "      <td>100</td>\n",
              "      <td>163</td>\n",
              "      <td>True</td>\n",
              "      <td>2023-11-21 13:41:47</td>\n",
              "      <td>R_3kCdgDlew1RWOTN</td>\n",
              "      <td>NaN</td>\n",
              "      <td>...</td>\n",
              "      <td>6</td>\n",
              "      <td>5</td>\n",
              "      <td>3</td>\n",
              "      <td>7</td>\n",
              "      <td>3</td>\n",
              "      <td>7</td>\n",
              "      <td>2</td>\n",
              "      <td>4</td>\n",
              "      <td>Our speech therapist was very flexible with ap...</td>\n",
              "      <td>Technological issues and lack of in-person edu...</td>\n",
              "    </tr>\n",
              "    <tr>\n",
              "      <th>7</th>\n",
              "      <td>2023-11-21 15:41:40</td>\n",
              "      <td>2023-11-21 15:43:55</td>\n",
              "      <td>IP Address</td>\n",
              "      <td>69.124.211.160</td>\n",
              "      <td>100</td>\n",
              "      <td>134</td>\n",
              "      <td>True</td>\n",
              "      <td>2023-11-21 15:43:56</td>\n",
              "      <td>R_33k8Nfl7tS2HhSM</td>\n",
              "      <td>NaN</td>\n",
              "      <td>...</td>\n",
              "      <td>NaN</td>\n",
              "      <td>NaN</td>\n",
              "      <td>NaN</td>\n",
              "      <td>NaN</td>\n",
              "      <td>NaN</td>\n",
              "      <td>NaN</td>\n",
              "      <td>NaN</td>\n",
              "      <td>NaN</td>\n",
              "      <td>NaN</td>\n",
              "      <td>NaN</td>\n",
              "    </tr>\n",
              "    <tr>\n",
              "      <th>8</th>\n",
              "      <td>2023-11-21 15:45:17</td>\n",
              "      <td>2023-11-21 15:49:45</td>\n",
              "      <td>IP Address</td>\n",
              "      <td>69.124.211.160</td>\n",
              "      <td>100</td>\n",
              "      <td>268</td>\n",
              "      <td>True</td>\n",
              "      <td>2023-11-21 15:49:46</td>\n",
              "      <td>R_1Cvh21HA278a0o3</td>\n",
              "      <td>NaN</td>\n",
              "      <td>...</td>\n",
              "      <td>6</td>\n",
              "      <td>7</td>\n",
              "      <td>6</td>\n",
              "      <td>6</td>\n",
              "      <td>5</td>\n",
              "      <td>6</td>\n",
              "      <td>5</td>\n",
              "      <td>6</td>\n",
              "      <td>The convenience of no travel.</td>\n",
              "      <td>No</td>\n",
              "    </tr>\n",
              "    <tr>\n",
              "      <th>9</th>\n",
              "      <td>2023-11-21 16:54:31</td>\n",
              "      <td>2023-11-21 16:57:23</td>\n",
              "      <td>IP Address</td>\n",
              "      <td>107.77.226.12</td>\n",
              "      <td>100</td>\n",
              "      <td>171</td>\n",
              "      <td>True</td>\n",
              "      <td>2023-11-21 16:57:24</td>\n",
              "      <td>R_3j9A0gbgH9Zk6J6</td>\n",
              "      <td>NaN</td>\n",
              "      <td>...</td>\n",
              "      <td>5</td>\n",
              "      <td>5</td>\n",
              "      <td>5</td>\n",
              "      <td>5</td>\n",
              "      <td>4</td>\n",
              "      <td>3</td>\n",
              "      <td>5</td>\n",
              "      <td>4</td>\n",
              "      <td>NaN</td>\n",
              "      <td>NaN</td>\n",
              "    </tr>\n",
              "  </tbody>\n",
              "</table>\n",
              "<p>10 rows × 40 columns</p>\n",
              "</div>\n",
              "    <div class=\"colab-df-buttons\">\n",
              "\n",
              "  <div class=\"colab-df-container\">\n",
              "    <button class=\"colab-df-convert\" onclick=\"convertToInteractive('df-8829256c-b596-4d31-8f28-e115aedc29b9')\"\n",
              "            title=\"Convert this dataframe to an interactive table.\"\n",
              "            style=\"display:none;\">\n",
              "\n",
              "  <svg xmlns=\"http://www.w3.org/2000/svg\" height=\"24px\" viewBox=\"0 -960 960 960\">\n",
              "    <path d=\"M120-120v-720h720v720H120Zm60-500h600v-160H180v160Zm220 220h160v-160H400v160Zm0 220h160v-160H400v160ZM180-400h160v-160H180v160Zm440 0h160v-160H620v160ZM180-180h160v-160H180v160Zm440 0h160v-160H620v160Z\"/>\n",
              "  </svg>\n",
              "    </button>\n",
              "\n",
              "  <style>\n",
              "    .colab-df-container {\n",
              "      display:flex;\n",
              "      gap: 12px;\n",
              "    }\n",
              "\n",
              "    .colab-df-convert {\n",
              "      background-color: #E8F0FE;\n",
              "      border: none;\n",
              "      border-radius: 50%;\n",
              "      cursor: pointer;\n",
              "      display: none;\n",
              "      fill: #1967D2;\n",
              "      height: 32px;\n",
              "      padding: 0 0 0 0;\n",
              "      width: 32px;\n",
              "    }\n",
              "\n",
              "    .colab-df-convert:hover {\n",
              "      background-color: #E2EBFA;\n",
              "      box-shadow: 0px 1px 2px rgba(60, 64, 67, 0.3), 0px 1px 3px 1px rgba(60, 64, 67, 0.15);\n",
              "      fill: #174EA6;\n",
              "    }\n",
              "\n",
              "    .colab-df-buttons div {\n",
              "      margin-bottom: 4px;\n",
              "    }\n",
              "\n",
              "    [theme=dark] .colab-df-convert {\n",
              "      background-color: #3B4455;\n",
              "      fill: #D2E3FC;\n",
              "    }\n",
              "\n",
              "    [theme=dark] .colab-df-convert:hover {\n",
              "      background-color: #434B5C;\n",
              "      box-shadow: 0px 1px 3px 1px rgba(0, 0, 0, 0.15);\n",
              "      filter: drop-shadow(0px 1px 2px rgba(0, 0, 0, 0.3));\n",
              "      fill: #FFFFFF;\n",
              "    }\n",
              "  </style>\n",
              "\n",
              "    <script>\n",
              "      const buttonEl =\n",
              "        document.querySelector('#df-8829256c-b596-4d31-8f28-e115aedc29b9 button.colab-df-convert');\n",
              "      buttonEl.style.display =\n",
              "        google.colab.kernel.accessAllowed ? 'block' : 'none';\n",
              "\n",
              "      async function convertToInteractive(key) {\n",
              "        const element = document.querySelector('#df-8829256c-b596-4d31-8f28-e115aedc29b9');\n",
              "        const dataTable =\n",
              "          await google.colab.kernel.invokeFunction('convertToInteractive',\n",
              "                                                    [key], {});\n",
              "        if (!dataTable) return;\n",
              "\n",
              "        const docLinkHtml = 'Like what you see? Visit the ' +\n",
              "          '<a target=\"_blank\" href=https://colab.research.google.com/notebooks/data_table.ipynb>data table notebook</a>'\n",
              "          + ' to learn more about interactive tables.';\n",
              "        element.innerHTML = '';\n",
              "        dataTable['output_type'] = 'display_data';\n",
              "        await google.colab.output.renderOutput(dataTable, element);\n",
              "        const docLink = document.createElement('div');\n",
              "        docLink.innerHTML = docLinkHtml;\n",
              "        element.appendChild(docLink);\n",
              "      }\n",
              "    </script>\n",
              "  </div>\n",
              "\n",
              "\n",
              "<div id=\"df-8650e398-9e0f-4f72-9a75-c21985ba1b94\">\n",
              "  <button class=\"colab-df-quickchart\" onclick=\"quickchart('df-8650e398-9e0f-4f72-9a75-c21985ba1b94')\"\n",
              "            title=\"Suggest charts\"\n",
              "            style=\"display:none;\">\n",
              "\n",
              "<svg xmlns=\"http://www.w3.org/2000/svg\" height=\"24px\"viewBox=\"0 0 24 24\"\n",
              "     width=\"24px\">\n",
              "    <g>\n",
              "        <path d=\"M19 3H5c-1.1 0-2 .9-2 2v14c0 1.1.9 2 2 2h14c1.1 0 2-.9 2-2V5c0-1.1-.9-2-2-2zM9 17H7v-7h2v7zm4 0h-2V7h2v10zm4 0h-2v-4h2v4z\"/>\n",
              "    </g>\n",
              "</svg>\n",
              "  </button>\n",
              "\n",
              "<style>\n",
              "  .colab-df-quickchart {\n",
              "      --bg-color: #E8F0FE;\n",
              "      --fill-color: #1967D2;\n",
              "      --hover-bg-color: #E2EBFA;\n",
              "      --hover-fill-color: #174EA6;\n",
              "      --disabled-fill-color: #AAA;\n",
              "      --disabled-bg-color: #DDD;\n",
              "  }\n",
              "\n",
              "  [theme=dark] .colab-df-quickchart {\n",
              "      --bg-color: #3B4455;\n",
              "      --fill-color: #D2E3FC;\n",
              "      --hover-bg-color: #434B5C;\n",
              "      --hover-fill-color: #FFFFFF;\n",
              "      --disabled-bg-color: #3B4455;\n",
              "      --disabled-fill-color: #666;\n",
              "  }\n",
              "\n",
              "  .colab-df-quickchart {\n",
              "    background-color: var(--bg-color);\n",
              "    border: none;\n",
              "    border-radius: 50%;\n",
              "    cursor: pointer;\n",
              "    display: none;\n",
              "    fill: var(--fill-color);\n",
              "    height: 32px;\n",
              "    padding: 0;\n",
              "    width: 32px;\n",
              "  }\n",
              "\n",
              "  .colab-df-quickchart:hover {\n",
              "    background-color: var(--hover-bg-color);\n",
              "    box-shadow: 0 1px 2px rgba(60, 64, 67, 0.3), 0 1px 3px 1px rgba(60, 64, 67, 0.15);\n",
              "    fill: var(--button-hover-fill-color);\n",
              "  }\n",
              "\n",
              "  .colab-df-quickchart-complete:disabled,\n",
              "  .colab-df-quickchart-complete:disabled:hover {\n",
              "    background-color: var(--disabled-bg-color);\n",
              "    fill: var(--disabled-fill-color);\n",
              "    box-shadow: none;\n",
              "  }\n",
              "\n",
              "  .colab-df-spinner {\n",
              "    border: 2px solid var(--fill-color);\n",
              "    border-color: transparent;\n",
              "    border-bottom-color: var(--fill-color);\n",
              "    animation:\n",
              "      spin 1s steps(1) infinite;\n",
              "  }\n",
              "\n",
              "  @keyframes spin {\n",
              "    0% {\n",
              "      border-color: transparent;\n",
              "      border-bottom-color: var(--fill-color);\n",
              "      border-left-color: var(--fill-color);\n",
              "    }\n",
              "    20% {\n",
              "      border-color: transparent;\n",
              "      border-left-color: var(--fill-color);\n",
              "      border-top-color: var(--fill-color);\n",
              "    }\n",
              "    30% {\n",
              "      border-color: transparent;\n",
              "      border-left-color: var(--fill-color);\n",
              "      border-top-color: var(--fill-color);\n",
              "      border-right-color: var(--fill-color);\n",
              "    }\n",
              "    40% {\n",
              "      border-color: transparent;\n",
              "      border-right-color: var(--fill-color);\n",
              "      border-top-color: var(--fill-color);\n",
              "    }\n",
              "    60% {\n",
              "      border-color: transparent;\n",
              "      border-right-color: var(--fill-color);\n",
              "    }\n",
              "    80% {\n",
              "      border-color: transparent;\n",
              "      border-right-color: var(--fill-color);\n",
              "      border-bottom-color: var(--fill-color);\n",
              "    }\n",
              "    90% {\n",
              "      border-color: transparent;\n",
              "      border-bottom-color: var(--fill-color);\n",
              "    }\n",
              "  }\n",
              "</style>\n",
              "\n",
              "  <script>\n",
              "    async function quickchart(key) {\n",
              "      const quickchartButtonEl =\n",
              "        document.querySelector('#' + key + ' button');\n",
              "      quickchartButtonEl.disabled = true;  // To prevent multiple clicks.\n",
              "      quickchartButtonEl.classList.add('colab-df-spinner');\n",
              "      try {\n",
              "        const charts = await google.colab.kernel.invokeFunction(\n",
              "            'suggestCharts', [key], {});\n",
              "      } catch (error) {\n",
              "        console.error('Error during call to suggestCharts:', error);\n",
              "      }\n",
              "      quickchartButtonEl.classList.remove('colab-df-spinner');\n",
              "      quickchartButtonEl.classList.add('colab-df-quickchart-complete');\n",
              "    }\n",
              "    (() => {\n",
              "      let quickchartButtonEl =\n",
              "        document.querySelector('#df-8650e398-9e0f-4f72-9a75-c21985ba1b94 button');\n",
              "      quickchartButtonEl.style.display =\n",
              "        google.colab.kernel.accessAllowed ? 'block' : 'none';\n",
              "    })();\n",
              "  </script>\n",
              "</div>\n",
              "    </div>\n",
              "  </div>\n"
            ]
          },
          "metadata": {},
          "execution_count": 52
        }
      ]
    },
    {
      "cell_type": "code",
      "source": [
        "# Display the current column names in the DataFrame\n",
        "print(df.columns)\n"
      ],
      "metadata": {
        "colab": {
          "base_uri": "https://localhost:8080/"
        },
        "id": "DrD3Xp6ZxN1g",
        "outputId": "1970d1c9-a6ae-48ea-ce0f-4efa7f3cf657"
      },
      "execution_count": 53,
      "outputs": [
        {
          "output_type": "stream",
          "name": "stdout",
          "text": [
            "Index(['StartDate', 'EndDate', 'Status', 'IPAddress', 'Progress',\n",
            "       'Duration (in seconds)', 'Finished', 'RecordedDate', 'ResponseId',\n",
            "       'RecipientLastName', 'RecipientFirstName', 'RecipientEmail',\n",
            "       'ExternalReference', 'LocationLatitude', 'LocationLongitude',\n",
            "       'DistributionChannel', 'UserLanguage', 'Consent', 'Q', 'Q.1', 'Q.2',\n",
            "       'Q_2_TEXT', 'Q.3', 'Q_2_TEXT.1', 'Q1', 'Q1_6_TEXT', 'Q2', 'Q3', 'Q4',\n",
            "       'Q4_2_TEXT', 'Q5_1', 'Q6_1', 'Q6_2', 'Q6_3', 'Q6_4', 'Q6_5', 'Q6_6',\n",
            "       'Q6_7', 'Q13', 'Q14'],\n",
            "      dtype='object')\n"
          ]
        }
      ]
    },
    {
      "cell_type": "code",
      "source": [
        "# Display unique values in the 'Q' column\n",
        "print(\"Unique values in 'Q':\", df['Q'].unique())\n",
        "\n",
        "# Replace values for race or ethnicity (Q column)\n",
        "df['Q'] = df['Q'].map({'No': 0, 'Yes': 1})\n",
        "\n",
        "# Display unique values in the 'Q.1' column\n",
        "print(\"Unique values in 'Q.1':\", df['Q.1'].unique())\n",
        "\n",
        "# Replace values for child's diagnosis (Q.1 column)\n",
        "df['Q.1'] = df['Q.1'].map({'NO': 0, 'YES': 1})"
      ],
      "metadata": {
        "colab": {
          "base_uri": "https://localhost:8080/"
        },
        "id": "SWZE7Zvax3e6",
        "outputId": "72ab05a1-f132-4300-d11b-f0d1071579b6"
      },
      "execution_count": 54,
      "outputs": [
        {
          "output_type": "stream",
          "name": "stdout",
          "text": [
            "Unique values in 'Q': ['No' 'Yes']\n",
            "Unique values in 'Q.1': [nan '14' 'Under 8' '10' '12' '13']\n"
          ]
        }
      ]
    },
    {
      "cell_type": "code",
      "source": [
        "from scipy.stats import kruskal\n",
        "\n",
        "# Select Likert scale columns\n",
        "likert_columns = df.columns[df.columns.str.startswith('Q')]\n",
        "\n",
        "# Descriptive statistics\n",
        "likert_stats = df[likert_columns].describe()\n",
        "print(likert_stats)\n",
        "\n",
        "# Print unique values for each Likert scale column\n",
        "for column in likert_columns:\n",
        "    print(f\"Unique values in '{column}': {df[column].unique()}\")\n",
        "\n",
        "# Visualize the distribution of Likert scale responses (excluding non-numeric values)\n",
        "for column in likert_columns:\n",
        "    try:\n",
        "        sns.boxplot(x=df[column].astype(float), data=df)\n",
        "        plt.show()\n",
        "    except ValueError:\n",
        "        print(f\"Skipping boxplot for '{column}' due to non-numeric values.\")\n"
      ],
      "metadata": {
        "colab": {
          "base_uri": "https://localhost:8080/",
          "height": 1000
        },
        "id": "78Qi_8Ku8cXM",
        "outputId": "e8e1dd18-ab39-4a64-de23-b76c59d512f8"
      },
      "execution_count": 55,
      "outputs": [
        {
          "output_type": "stream",
          "name": "stdout",
          "text": [
            "               Q  Q.1\n",
            "count  10.000000  0.0\n",
            "mean    0.700000  NaN\n",
            "std     0.483046  NaN\n",
            "min     0.000000  NaN\n",
            "25%     0.250000  NaN\n",
            "50%     1.000000  NaN\n",
            "75%     1.000000  NaN\n",
            "max     1.000000  NaN\n",
            "Unique values in 'Q': [0 1]\n",
            "Unique values in 'Q.1': [nan]\n",
            "Unique values in 'Q.2': [nan 'If yes, list dates:']\n",
            "Unique values in 'Q_2_TEXT': [nan 'Twice a week starting in November 2017' 'April 2018 - May 2019'\n",
            " '2018-2019' '2017-March 2020' 'January 2019 to March 2020']\n",
            "Unique values in 'Q.3': [nan 'If yes, list dates:' 'No']\n",
            "Unique values in 'Q_2_TEXT.1': [nan 'We tried once a week. It picked back up May 2020 (I think)'\n",
            " 'March 2020 - May 2020' 'March 2020-June 2022'\n",
            " 'March 2020 to December 2021']\n",
            "Unique values in 'Q1': [nan 'White/Caucasian' 'Hispanic']\n",
            "Unique values in 'Q1_6_TEXT': [nan]\n",
            "Unique values in 'Q2': [nan 'Education' 'Neither']\n",
            "Unique values in 'Q3': [nan 'Speech' 'Speech ']\n",
            "Unique values in 'Q4': [nan 'No' 'If yes, please specify:']\n",
            "Unique values in 'Q4_2_TEXT': [nan 'ADHD']\n",
            "Unique values in 'Q5_1': [nan '7' '6' '5']\n",
            "Unique values in 'Q6_1': [nan '6' '5' '7']\n",
            "Unique values in 'Q6_2': [nan '5' '3' '6']\n",
            "Unique values in 'Q6_3': [nan '1' '7' '6' '5']\n",
            "Unique values in 'Q6_4': [nan '5' '3' '4']\n",
            "Unique values in 'Q6_5': [nan '4' '7' '6' '3']\n",
            "Unique values in 'Q6_6': [nan '4' '2' '5']\n",
            "Unique values in 'Q6_7': [nan '7' '4' '6']\n",
            "Unique values in 'Q13': [nan 'The connection with the therapist was great.'\n",
            " 'Our speech therapist was very flexible with appointment times'\n",
            " 'The convenience of no travel.']\n",
            "Unique values in 'Q14': [nan\n",
            " 'My child’s experience was positive. The sessions ended up being shorter because there were often technology issues to deal with.'\n",
            " 'Technological issues and lack of in-person education affected my daughter’s speech'\n",
            " 'No']\n"
          ]
        },
        {
          "output_type": "display_data",
          "data": {
            "text/plain": [
              "<Figure size 640x480 with 1 Axes>"
            ],
            "image/png": "[encoded data removed]"
          },
          "metadata": {}
        },
        {
          "output_type": "display_data",
          "data": {
            "text/plain": [
              "<Figure size 640x480 with 1 Axes>"
            ],
            "image/png": "[encoded data removed]"
          },
          "metadata": {}
        },
        {
          "output_type": "stream",
          "name": "stdout",
          "text": [
            "Skipping boxplot for 'Q.2' due to non-numeric values.\n",
            "Skipping boxplot for 'Q_2_TEXT' due to non-numeric values.\n",
            "Skipping boxplot for 'Q.3' due to non-numeric values.\n",
            "Skipping boxplot for 'Q_2_TEXT.1' due to non-numeric values.\n",
            "Skipping boxplot for 'Q1' due to non-numeric values.\n"
          ]
        },
        {
          "output_type": "display_data",
          "data": {
            "text/plain": [
              "<Figure size 640x480 with 1 Axes>"
            ],
            "image/png": "[encoded data removed]"
          },
          "metadata": {}
        },
        {
          "output_type": "stream",
          "name": "stdout",
          "text": [
            "Skipping boxplot for 'Q2' due to non-numeric values.\n",
            "Skipping boxplot for 'Q3' due to non-numeric values.\n",
            "Skipping boxplot for 'Q4' due to non-numeric values.\n",
            "Skipping boxplot for 'Q4_2_TEXT' due to non-numeric values.\n"
          ]
        },
        {
          "output_type": "display_data",
          "data": {
            "text/plain": [
              "<Figure size 640x480 with 1 Axes>"
            ],
            "image/png": "[encoded data removed]"
          },
          "metadata": {}
        },
        {
          "output_type": "display_data",
          "data": {
            "text/plain": [
              "<Figure size 640x480 with 1 Axes>"
            ],
            "image/png": "[encoded data removed]"
          },
          "metadata": {}
        },
        {
          "output_type": "display_data",
          "data": {
            "text/plain": [
              "<Figure size 640x480 with 1 Axes>"
            ],
            "image/png": "[encoded data removed]"
          },
          "metadata": {}
        },
        {
          "output_type": "display_data",
          "data": {
            "text/plain": [
              "<Figure size 640x480 with 1 Axes>"
            ],
            "image/png": "[encoded data removed]"
          },
          "metadata": {}
        },
        {
          "output_type": "display_data",
          "data": {
            "text/plain": [
              "<Figure size 640x480 with 1 Axes>"
            ],
            "image/png": "[encoded data removed]"
          },
          "metadata": {}
        },
        {
          "output_type": "display_data",
          "data": {
            "text/plain": [
              "<Figure size 640x480 with 1 Axes>"
            ],
            "image/png": "[encoded data removed]"
          },
          "metadata": {}
        },
        {
          "output_type": "display_data",
          "data": {
            "text/plain": [
              "<Figure size 640x480 with 1 Axes>"
            ],
            "image/png": "[encoded data removed]"
          },
          "metadata": {}
        },
        {
          "output_type": "display_data",
          "data": {
            "text/plain": [
              "<Figure size 640x480 with 1 Axes>"
            ],
            "image/png": "[encoded data removed]"
          },
          "metadata": {}
        },
        {
          "output_type": "stream",
          "name": "stdout",
          "text": [
            "Skipping boxplot for 'Q13' due to non-numeric values.\n",
            "Skipping boxplot for 'Q14' due to non-numeric values.\n"
          ]
        }
      ]
    },
    {
      "cell_type": "markdown",
      "source": [
        "#Assigning Nummerical Values (Likert Scale questions- Question 5_1 through 6_7)"
      ],
      "metadata": {
        "id": "2Bxj8aDOjmZE"
      }
    },
    {
      "cell_type": "code",
      "source": [
        "# Define a mapping for Likert scale questions\n",
        "likert_mapping = {\n",
        "    'Q5_1': 'Q5',\n",
        "    'Q6_1': 'Q6',\n",
        "    'Q6_2': 'Q7',\n",
        "    'Q6_3': 'Q8',\n",
        "    'Q6_4': 'Q9',\n",
        "    'Q6_5': 'Q10',\n",
        "    'Q6_6': 'Q11',\n",
        "    'Q6_7': 'Q12',\n",
        "}\n",
        "\n",
        "# Rename columns in the survey_data DataFrame\n",
        "survey_data.rename(columns=likert_mapping, inplace=True)\n",
        "\n",
        "# Display the updated columns\n",
        "print(survey_data.columns)"
      ],
      "metadata": {
        "colab": {
          "base_uri": "https://localhost:8080/"
        },
        "id": "7ad1aL_EbHaZ",
        "outputId": "10adcfba-8b4a-46c5-f7ab-5a7b5d11b905"
      },
      "execution_count": 56,
      "outputs": [
        {
          "output_type": "stream",
          "name": "stdout",
          "text": [
            "Index(['StartDate', 'EndDate', 'Status', 'IPAddress', 'Progress',\n",
            "       'Duration (in seconds)', 'Finished', 'RecordedDate', 'ResponseId',\n",
            "       'RecipientLastName', 'RecipientFirstName', 'RecipientEmail',\n",
            "       'ExternalReference', 'LocationLatitude', 'LocationLongitude',\n",
            "       'DistributionChannel', 'UserLanguage', 'Consent', 'Q', 'Q.1', 'Q.2',\n",
            "       'Q_2_TEXT', 'Q.3', 'Q_2_TEXT.1', 'Q1', 'Q1_6_TEXT', 'Q2', 'Q3', 'Q4',\n",
            "       'Q4_2_TEXT', 'Q5', 'Q6', 'Q7', 'Q8', 'Q9', 'Q10', 'Q11', 'Q12', 'Q13',\n",
            "       'Q14'],\n",
            "      dtype='object')\n"
          ]
        }
      ]
    },
    {
      "cell_type": "code",
      "source": [
        "# Display unique values in the 'Q5' column\n",
        "print(\"Unique values in 'Q5':\", survey_data['Q5'].unique())"
      ],
      "metadata": {
        "colab": {
          "base_uri": "https://localhost:8080/"
        },
        "id": "njKqceY7bRG9",
        "outputId": "dbd37bf2-2993-48cb-9061-0f5fdf8f5e5a"
      },
      "execution_count": 57,
      "outputs": [
        {
          "output_type": "stream",
          "name": "stdout",
          "text": [
            "Unique values in 'Q5': [\"Rate your overall level of satisfaction with your child's SLP services prior to the pandemic on a scale of 1-7 with 7 being the highest level of satisfaction. - Overal Satisfaction\"\n",
            " '{\"ImportId\":\"QID11_1\"}' nan '7' '6' '5']\n"
          ]
        }
      ]
    },
    {
      "cell_type": "code",
      "source": [
        "import numpy as np\n",
        "\n",
        "# Replace non-numeric entries with NaN\n",
        "survey_data['Q5'] = pd.to_numeric(survey_data['Q5'], errors='coerce')\n",
        "\n",
        "# Display unique values after conversion\n",
        "print(\"Unique values in 'Q5':\", survey_data['Q5'].unique())"
      ],
      "metadata": {
        "colab": {
          "base_uri": "https://localhost:8080/"
        },
        "id": "EWjFTrzPbZb1",
        "outputId": "9f8f720a-7bb7-4fed-a108-19ad71ac08d2"
      },
      "execution_count": 58,
      "outputs": [
        {
          "output_type": "stream",
          "name": "stdout",
          "text": [
            "Unique values in 'Q5': [nan  7.  6.  5.]\n"
          ]
        }
      ]
    },
    {
      "cell_type": "code",
      "source": [
        "# Mapping categories to numerical values for 'Q5'\n",
        "survey_data['Q5'] = survey_data['Q5'].replace({\n",
        "    'Very Dissatisfied': 1,\n",
        "    'Dissatisfied': 2,\n",
        "    'Somewhat Dissatisfied': 3,\n",
        "    'Neutral': 4,\n",
        "    'Somewhat Satisfied': 5,\n",
        "    'Satisfied': 6,\n",
        "    'Very Satisfied': 7\n",
        "}).astype(float)  # Make sure to use float for decimal values"
      ],
      "metadata": {
        "id": "znt5QMtHbgub"
      },
      "execution_count": 59,
      "outputs": []
    },
    {
      "cell_type": "code",
      "source": [
        "import seaborn as sns\n",
        "import matplotlib.pyplot as plt\n",
        "\n",
        "# Plot the distribution of 'Q5'\n",
        "sns.countplot(x='Q5', data=survey_data)\n",
        "plt.title('Distribution of Responses for Q5')\n",
        "plt.show()"
      ],
      "metadata": {
        "colab": {
          "base_uri": "https://localhost:8080/",
          "height": 472
        },
        "id": "Hm5eNiLpb5MY",
        "outputId": "4e0573aa-7302-42d3-98a4-3a6467cb1e1c"
      },
      "execution_count": 60,
      "outputs": [
        {
          "output_type": "display_data",
          "data": {
            "text/plain": [
              "<Figure size 640x480 with 1 Axes>"
            ],
            "image/png": "[encoded data removed]"
          },
          "metadata": {}
        }
      ]
    },
    {
      "cell_type": "code",
      "source": [
        "import numpy as np\n",
        "\n",
        "# Replace non-numeric entries with NaN\n",
        "survey_data['Q6'] = pd.to_numeric(survey_data['Q6'], errors='coerce')\n",
        "\n",
        "# Display unique values after conversion\n",
        "print(\"Unique values in 'Q6':\", survey_data['Q6'].unique())"
      ],
      "metadata": {
        "id": "fsZTH9T6r22T",
        "colab": {
          "base_uri": "https://localhost:8080/"
        },
        "outputId": "c3012c30-9fef-4550-c868-7c9c8c0ff8d4"
      },
      "execution_count": 61,
      "outputs": [
        {
          "output_type": "stream",
          "name": "stdout",
          "text": [
            "Unique values in 'Q6': [nan  6.  5.  7.]\n"
          ]
        }
      ]
    },
    {
      "cell_type": "code",
      "source": [
        "# Mapping categories to numerical values for 'Q6'\n",
        "survey_data['Q6'] = survey_data['Q6'].replace({\n",
        "    'Very Dissatisfied': 1,\n",
        "    'Dissatisfied': 2,\n",
        "    'Somewhat Dissatisfied': 3,\n",
        "    'Neutral': 4,\n",
        "    'Somewhat Satisfied': 5,\n",
        "    'Satisfied': 6,\n",
        "    'Very Satisfied': 7\n",
        "}).astype(float)  # Make sure to use float if you have decimal values"
      ],
      "metadata": {
        "id": "5A3x97u-tHvr"
      },
      "execution_count": 62,
      "outputs": []
    },
    {
      "cell_type": "code",
      "source": [
        "# Plot the distribution of 'Q6'\n",
        "sns.countplot(x='Q6', data=survey_data)\n",
        "plt.title('Distribution of Responses for Q6')\n",
        "plt.show()"
      ],
      "metadata": {
        "colab": {
          "base_uri": "https://localhost:8080/",
          "height": 472
        },
        "id": "HJveP0fwtO5q",
        "outputId": "d1c1f6c9-a8d6-4046-f898-638d466111a4"
      },
      "execution_count": 63,
      "outputs": [
        {
          "output_type": "display_data",
          "data": {
            "text/plain": [
              "<Figure size 640x480 with 1 Axes>"
            ],
            "image/png": "[encoded data removed]"
          },
          "metadata": {}
        }
      ]
    },
    {
      "cell_type": "code",
      "source": [
        "import numpy as np\n",
        "\n",
        "# Replace non-numeric entries with NaN\n",
        "survey_data['Q7'] = pd.to_numeric(survey_data['Q7'], errors='coerce')\n",
        "\n",
        "# Display unique values after conversion\n",
        "print(\"Unique values in 'Q7':\", survey_data['Q7'].unique())"
      ],
      "metadata": {
        "colab": {
          "base_uri": "https://localhost:8080/"
        },
        "id": "7BZ4Vy93v3Wx",
        "outputId": "094e4741-1d3a-4841-9d69-fe05f6cf8d15"
      },
      "execution_count": 64,
      "outputs": [
        {
          "output_type": "stream",
          "name": "stdout",
          "text": [
            "Unique values in 'Q7': [nan  5.  3.  6.]\n"
          ]
        }
      ]
    },
    {
      "cell_type": "code",
      "source": [
        "# Mapping categories to numerical values for 'Q7'\n",
        "survey_data['Q7'] = survey_data['Q7'].replace({\n",
        "    'Very Dissatisfied': 1,\n",
        "    'Dissatisfied': 2,\n",
        "    'Somewhat Dissatisfied': 3,\n",
        "    'Neutral': 4,\n",
        "    'Somewhat Satisfied': 5,\n",
        "    'Satisfied': 6,\n",
        "    'Very Satisfied': 7\n",
        "}).astype(float)  # Make sure to use float if you have decimal values"
      ],
      "metadata": {
        "id": "2Okgvb3hwlMt"
      },
      "execution_count": 65,
      "outputs": []
    },
    {
      "cell_type": "code",
      "source": [
        "# Plot the distribution of 'Q7'\n",
        "sns.countplot(x='Q7', data=survey_data)\n",
        "plt.title('Distribution of Responses for Q7')\n",
        "plt.show()"
      ],
      "metadata": {
        "colab": {
          "base_uri": "https://localhost:8080/",
          "height": 472
        },
        "id": "PvdiJM6Pwr4d",
        "outputId": "d30a335b-dc86-4ccf-939a-60f08ba86ab8"
      },
      "execution_count": 66,
      "outputs": [
        {
          "output_type": "display_data",
          "data": {
            "text/plain": [
              "<Figure size 640x480 with 1 Axes>"
            ],
            "image/png": "[encoded data removed]"
          },
          "metadata": {}
        }
      ]
    },
    {
      "cell_type": "code",
      "source": [
        "# Filter the DataFrame for values 3, 5, and 6\n",
        "filtered_data = survey_data[survey_data['Q7'].isin([3, 5, 6])]\n",
        "\n",
        "# Plot the distribution of 'Q7'\n",
        "sns.countplot(x='Q7', data=filtered_data)\n",
        "plt.title('Distribution of Responses for Q7')\n",
        "plt.show()"
      ],
      "metadata": {
        "colab": {
          "base_uri": "https://localhost:8080/",
          "height": 472
        },
        "id": "Ic6xYeRbxX-Y",
        "outputId": "65943a96-f639-4a12-c6b1-c448a645e4b4"
      },
      "execution_count": 67,
      "outputs": [
        {
          "output_type": "display_data",
          "data": {
            "text/plain": [
              "<Figure size 640x480 with 1 Axes>"
            ],
            "image/png": "[encoded data removed]"
          },
          "metadata": {}
        }
      ]
    },
    {
      "cell_type": "code",
      "source": [
        "import numpy as np\n",
        "\n",
        "# Replace non-numeric entries with NaN\n",
        "survey_data['Q8'] = pd.to_numeric(survey_data['Q8'], errors='coerce')\n",
        "\n",
        "# Display unique values after conversion\n",
        "print(\"Unique values in 'Q8':\", survey_data['Q8'].unique())"
      ],
      "metadata": {
        "colab": {
          "base_uri": "https://localhost:8080/"
        },
        "id": "AD6nAVBt4BHb",
        "outputId": "e845a2d2-70e9-4cce-f15f-e7123397ae73"
      },
      "execution_count": 68,
      "outputs": [
        {
          "output_type": "stream",
          "name": "stdout",
          "text": [
            "Unique values in 'Q8': [nan  1.  7.  6.  5.]\n"
          ]
        }
      ]
    },
    {
      "cell_type": "code",
      "source": [
        "# Mapping categories to numerical values for 'Q8'\n",
        "survey_data['Q8'] = survey_data['Q8'].replace({\n",
        "    'Very Dissatisfied': 1,\n",
        "    'Dissatisfied': 2,\n",
        "    'Somewhat Dissatisfied': 3,\n",
        "    'Neutral': 4,\n",
        "    'Somewhat Satisfied': 5,\n",
        "    'Satisfied': 6,\n",
        "    'Very Satisfied': 7\n",
        "}).astype(float)  # Make sure to use float if you have decimal values"
      ],
      "metadata": {
        "id": "Y0Az2oCw4JcQ"
      },
      "execution_count": 69,
      "outputs": []
    },
    {
      "cell_type": "code",
      "source": [
        "# Plot the distribution of 'Q8'\n",
        "sns.countplot(x='Q8', data=survey_data)\n",
        "plt.title('Distribution of Responses for Q8')\n",
        "plt.show()"
      ],
      "metadata": {
        "colab": {
          "base_uri": "https://localhost:8080/",
          "height": 472
        },
        "id": "Dh-IakQo4P0_",
        "outputId": "4ff3cd0c-8e8d-4cb3-e579-99e40c7d10ec"
      },
      "execution_count": 70,
      "outputs": [
        {
          "output_type": "display_data",
          "data": {
            "text/plain": [
              "<Figure size 640x480 with 1 Axes>"
            ],
            "image/png": "[encoded data removed]"
          },
          "metadata": {}
        }
      ]
    },
    {
      "cell_type": "code",
      "source": [
        "# Replace non-numeric entries with NaN\n",
        "survey_data['Q9'] = pd.to_numeric(survey_data['Q9'], errors='coerce')\n",
        "\n",
        "# Display unique values after conversion\n",
        "print(\"Unique values in 'Q9':\", survey_data['Q9'].unique())"
      ],
      "metadata": {
        "colab": {
          "base_uri": "https://localhost:8080/"
        },
        "id": "Bc3Z5CHK8maB",
        "outputId": "6606bcef-8707-41b7-9ae8-061ca2491221"
      },
      "execution_count": 71,
      "outputs": [
        {
          "output_type": "stream",
          "name": "stdout",
          "text": [
            "Unique values in 'Q9': [nan  5.  3.  4.]\n"
          ]
        }
      ]
    },
    {
      "cell_type": "code",
      "source": [
        "# Mapping categories to numerical values for 'Q9'\n",
        "survey_data['Q9'] = survey_data['Q9'].replace({\n",
        "    'Very Dissatisfied': 1,\n",
        "    'Dissatisfied': 2,\n",
        "    'Somewhat Dissatisfied': 3,\n",
        "    'Neutral': 4,\n",
        "    'Somewhat Satisfied': 5,\n",
        "    'Satisfied': 6,\n",
        "    'Very Satisfied': 7\n",
        "}).astype(float)  # Make sure to use float if you have decimal values"
      ],
      "metadata": {
        "id": "X1Vn1uhF8yMM"
      },
      "execution_count": 72,
      "outputs": []
    },
    {
      "cell_type": "code",
      "source": [
        "# Plot the distribution of 'Q9'\n",
        "sns.countplot(x='Q9', data=survey_data)\n",
        "plt.title('Distribution of Responses for Q9')\n",
        "plt.show()"
      ],
      "metadata": {
        "colab": {
          "base_uri": "https://localhost:8080/",
          "height": 472
        },
        "id": "yXHVSrR588b3",
        "outputId": "162ed55e-ee2b-4d3b-b415-d2fef9df6730"
      },
      "execution_count": 73,
      "outputs": [
        {
          "output_type": "display_data",
          "data": {
            "text/plain": [
              "<Figure size 640x480 with 1 Axes>"
            ],
            "image/png": "[encoded data removed]"
          },
          "metadata": {}
        }
      ]
    },
    {
      "cell_type": "code",
      "source": [
        "# Replace non-numeric entries with NaN\n",
        "survey_data['Q10'] = pd.to_numeric(survey_data['Q10'], errors='coerce')\n",
        "\n",
        "# Display unique values after conversion\n",
        "print(\"Unique values in 'Q10':\", survey_data['Q10'].unique())"
      ],
      "metadata": {
        "colab": {
          "base_uri": "https://localhost:8080/"
        },
        "id": "xACwe8D4FXpO",
        "outputId": "56b3db1e-b527-4a10-fb87-0830a0c5dfa4"
      },
      "execution_count": 74,
      "outputs": [
        {
          "output_type": "stream",
          "name": "stdout",
          "text": [
            "Unique values in 'Q10': [nan  4.  7.  6.  3.]\n"
          ]
        }
      ]
    },
    {
      "cell_type": "code",
      "source": [
        "# Mapping categories to numerical values for 'Q10'\n",
        "survey_data['Q10'] = survey_data['Q10'].replace({\n",
        "    'Very Dissatisfied': 1,\n",
        "    'Dissatisfied': 2,\n",
        "    'Somewhat Dissatisfied': 3,\n",
        "    'Neutral': 4,\n",
        "    'Somewhat Satisfied': 5,\n",
        "    'Satisfied': 6,\n",
        "    'Very Satisfied': 7\n",
        "}).astype(float)  # Make sure to use float if you have decimal values"
      ],
      "metadata": {
        "id": "bDj2tnspFe5x"
      },
      "execution_count": 75,
      "outputs": []
    },
    {
      "cell_type": "code",
      "source": [
        "# Plot the distribution of 'Q10'\n",
        "sns.countplot(x='Q10', data=survey_data)\n",
        "plt.title('Distribution of Responses for Q10')\n",
        "plt.show()"
      ],
      "metadata": {
        "colab": {
          "base_uri": "https://localhost:8080/",
          "height": 472
        },
        "id": "WtPG4wM4F8DO",
        "outputId": "aa969405-f9a2-4bab-b998-5fc5c2e09029"
      },
      "execution_count": 76,
      "outputs": [
        {
          "output_type": "display_data",
          "data": {
            "text/plain": [
              "<Figure size 640x480 with 1 Axes>"
            ],
            "image/png": "[encoded data removed]"
          },
          "metadata": {}
        }
      ]
    },
    {
      "cell_type": "code",
      "source": [
        "# Replace non-numeric entries with NaN\n",
        "survey_data['Q11'] = pd.to_numeric(survey_data['Q11'], errors='coerce')\n",
        "\n",
        "# Display unique values after conversion\n",
        "print(\"Unique values in 'Q11':\", survey_data['Q11'].unique())"
      ],
      "metadata": {
        "colab": {
          "base_uri": "https://localhost:8080/"
        },
        "id": "3gz2YDAkMvE4",
        "outputId": "b41aed9c-b45b-443d-ebb8-7fd225f4e277"
      },
      "execution_count": 77,
      "outputs": [
        {
          "output_type": "stream",
          "name": "stdout",
          "text": [
            "Unique values in 'Q11': [nan  4.  2.  5.]\n"
          ]
        }
      ]
    },
    {
      "cell_type": "code",
      "source": [
        "# Mapping categories to numerical values for 'Q11'\n",
        "survey_data['Q11'] = survey_data['Q11'].replace({\n",
        "    'Very Dissatisfied': 1,\n",
        "    'Dissatisfied': 2,\n",
        "    'Somewhat Dissatisfied': 3,\n",
        "    'Neutral': 4,\n",
        "    'Somewhat Satisfied': 5,\n",
        "    'Satisfied': 6,\n",
        "    'Very Satisfied': 7\n",
        "}).astype(float)  # Make sure to use float if you have decimal values"
      ],
      "metadata": {
        "id": "djKwnS_OM7CO"
      },
      "execution_count": 78,
      "outputs": []
    },
    {
      "cell_type": "code",
      "source": [
        "# Plot the distribution of 'Q11'\n",
        "sns.countplot(x='Q11', data=survey_data)\n",
        "plt.title('Distribution of Responses for Q11')\n",
        "plt.show()"
      ],
      "metadata": {
        "colab": {
          "base_uri": "https://localhost:8080/",
          "height": 472
        },
        "id": "i6Oowvk0NHok",
        "outputId": "d348c579-8e24-4625-ca86-7e672ad3f961"
      },
      "execution_count": 79,
      "outputs": [
        {
          "output_type": "display_data",
          "data": {
            "text/plain": [
              "<Figure size 640x480 with 1 Axes>"
            ],
            "image/png": "[encoded data removed]"
          },
          "metadata": {}
        }
      ]
    },
    {
      "cell_type": "code",
      "source": [
        "# Replace non-numeric entries with NaN\n",
        "survey_data['Q12'] = pd.to_numeric(survey_data['Q12'], errors='coerce')\n",
        "\n",
        "# Display unique values after conversion\n",
        "print(\"Unique values in 'Q12':\", survey_data['Q12'].unique())"
      ],
      "metadata": {
        "colab": {
          "base_uri": "https://localhost:8080/"
        },
        "id": "Ix-7PhZtS7ks",
        "outputId": "385caccd-52fd-4c85-a91e-5b441cd3326c"
      },
      "execution_count": 80,
      "outputs": [
        {
          "output_type": "stream",
          "name": "stdout",
          "text": [
            "Unique values in 'Q12': [nan  7.  4.  6.]\n"
          ]
        }
      ]
    },
    {
      "cell_type": "code",
      "source": [
        "# Mapping categories to numerical values for 'Q12'\n",
        "survey_data['Q12'] = survey_data['Q12'].replace({\n",
        "    'Very Dissatisfied': 1,\n",
        "    'Dissatisfied': 2,\n",
        "    'Somewhat Dissatisfied': 3,\n",
        "    'Neutral': 4,\n",
        "    'Somewhat Satisfied': 5,\n",
        "    'Satisfied': 6,\n",
        "    'Very Satisfied': 7\n",
        "}).astype(float)  # Make sure to use float if you have decimal values"
      ],
      "metadata": {
        "id": "_Uwr42eNTHa4"
      },
      "execution_count": 81,
      "outputs": []
    },
    {
      "cell_type": "code",
      "source": [
        "# Plot the distribution of 'Q12'\n",
        "sns.countplot(x='Q12', data=survey_data)\n",
        "plt.title('Distribution of Responses for Q12')\n",
        "plt.show()"
      ],
      "metadata": {
        "colab": {
          "base_uri": "https://localhost:8080/",
          "height": 472
        },
        "id": "KfR-Y95ZTPbJ",
        "outputId": "99913d93-7dd9-42f3-d123-5ca7bb16ba67"
      },
      "execution_count": 82,
      "outputs": [
        {
          "output_type": "display_data",
          "data": {
            "text/plain": [
              "<Figure size 640x480 with 1 Axes>"
            ],
            "image/png": "[encoded data removed]"
          },
          "metadata": {}
        }
      ]
    },
    {
      "cell_type": "markdown",
      "source": [
        "#Renaming The Columns (can delete later)"
      ],
      "metadata": {
        "id": "ST5kBfjKegTJ"
      }
    },
    {
      "cell_type": "code",
      "source": [
        "import re\n",
        "\n",
        "# Find the common prefix\n",
        "common_prefix = re.match(r'([A-Za-z]+)', survey_data.columns[0]).group()\n",
        "\n",
        "# Create a mapping for the columns you want to rename\n",
        "column_mapping = {f'{common_prefix}5_1': f'{common_prefix}5',\n",
        "                  f'{common_prefix}6_1': f'{common_prefix}6',\n",
        "                  f'{common_prefix}6_2': f'{common_prefix}7',\n",
        "                  f'{common_prefix}6_3': f'{common_prefix}8',\n",
        "                  f'{common_prefix}6_4': f'{common_prefix}9',\n",
        "                  f'{common_prefix}6_5': f'{common_prefix}10',\n",
        "                  f'{common_prefix}6_6': f'{common_prefix}11',\n",
        "                  f'{common_prefix}6_7': f'{common_prefix}12'}\n",
        "\n",
        "# Rename the columns\n",
        "survey_data.rename(columns=column_mapping, inplace=True)"
      ],
      "metadata": {
        "id": "GtyomL4kVlJ2"
      },
      "execution_count": 83,
      "outputs": []
    },
    {
      "cell_type": "code",
      "source": [
        "# Define a mapping for Likert scale questions\n",
        "likert_mapping = {\n",
        "    'Q5_1': 'Q5',\n",
        "    'Q6_1': 'Q6',\n",
        "    'Q6_2': 'Q7',\n",
        "    'Q6_3': 'Q8',\n",
        "    'Q6_4': 'Q9',\n",
        "    'Q6_5': 'Q10',\n",
        "    'Q6_6': 'Q11',\n",
        "    'Q6_7': 'Q12',\n",
        "}\n",
        "\n",
        "# Rename columns in the survey_data DataFrame\n",
        "survey_data.rename(columns=likert_mapping, inplace=True)\n",
        "\n",
        "# Display the updated columns\n",
        "print(survey_data.columns)"
      ],
      "metadata": {
        "colab": {
          "base_uri": "https://localhost:8080/"
        },
        "id": "Spca_E55V62W",
        "outputId": "b296f45c-eb1b-4c8f-814a-6dc9baa7833a"
      },
      "execution_count": 84,
      "outputs": [
        {
          "output_type": "stream",
          "name": "stdout",
          "text": [
            "Index(['StartDate', 'EndDate', 'Status', 'IPAddress', 'Progress',\n",
            "       'Duration (in seconds)', 'Finished', 'RecordedDate', 'ResponseId',\n",
            "       'RecipientLastName', 'RecipientFirstName', 'RecipientEmail',\n",
            "       'ExternalReference', 'LocationLatitude', 'LocationLongitude',\n",
            "       'DistributionChannel', 'UserLanguage', 'Consent', 'Q', 'Q.1', 'Q.2',\n",
            "       'Q_2_TEXT', 'Q.3', 'Q_2_TEXT.1', 'Q1', 'Q1_6_TEXT', 'Q2', 'Q3', 'Q4',\n",
            "       'Q4_2_TEXT', 'Q5', 'Q6', 'Q7', 'Q8', 'Q9', 'Q10', 'Q11', 'Q12', 'Q13',\n",
            "       'Q14'],\n",
            "      dtype='object')\n"
          ]
        }
      ]
    },
    {
      "cell_type": "markdown",
      "source": [
        "#Correlation Analysis"
      ],
      "metadata": {
        "id": "EoFVf67Kj88t"
      }
    },
    {
      "cell_type": "code",
      "source": [
        "import pandas as pd\n",
        "\n",
        "# Extract the relevant columns for correlation analysis\n",
        "correlation_columns = ['Q5', 'Q6', 'Q7', 'Q8', 'Q9', 'Q10', 'Q11', 'Q12']\n",
        "\n",
        "# Create a new DataFrame with the selected columns\n",
        "correlation_data = survey_data[correlation_columns]\n",
        "\n",
        "# Calculate the correlation matrix\n",
        "correlation_matrix = correlation_data.corr()\n",
        "\n",
        "# Display the correlation matrix\n",
        "print(correlation_matrix)"
      ],
      "metadata": {
        "colab": {
          "base_uri": "https://localhost:8080/"
        },
        "id": "q56Il9WdfGrd",
        "outputId": "8fae4c6b-0c15-4081-a2d0-30b2b1c13031"
      },
      "execution_count": 85,
      "outputs": [
        {
          "output_type": "stream",
          "name": "stdout",
          "text": [
            "               Q5        Q6            Q7        Q8        Q9       Q10  \\\n",
            "Q5   1.000000e+00  0.426401  7.204078e-17 -0.620920  0.426401  0.223607   \n",
            "Q6   4.264014e-01  1.000000  7.608859e-01 -0.165476  0.818182  0.190693   \n",
            "Q7   7.204078e-17  0.760886  1.000000e+00 -0.327361  0.899229 -0.435286   \n",
            "Q8  -6.209204e-01 -0.165476 -3.273614e-01  1.000000 -0.628808  0.624789   \n",
            "Q9   4.264014e-01  0.818182  8.992288e-01 -0.628808  1.000000 -0.381385   \n",
            "Q10  2.236068e-01  0.190693 -4.352858e-01  0.624789 -0.381385  1.000000   \n",
            "Q11 -2.886751e-01  0.492366  9.365858e-01 -0.268866  0.738549 -0.645497   \n",
            "Q12  8.164966e-01  0.754337  5.739640e-01 -0.739345  0.870388 -0.121716   \n",
            "\n",
            "          Q11       Q12  \n",
            "Q5  -0.288675  0.816497  \n",
            "Q6   0.492366  0.754337  \n",
            "Q7   0.936586  0.573964  \n",
            "Q8  -0.268866 -0.739345  \n",
            "Q9   0.738549  0.870388  \n",
            "Q10 -0.645497 -0.121716  \n",
            "Q11  1.000000  0.314270  \n",
            "Q12  0.314270  1.000000  \n"
          ]
        }
      ]
    },
    {
      "cell_type": "markdown",
      "source": [
        "**Q5 (Overall satisfaction) with other questions:**\n",
        "\n",
        "* Q5 has a strong positive correlation with Q12 (0.816) and moderate positive correlations with Q6 (0.426) and Q9 (0.426).\n",
        "* Q5 has a strong negative correlation with Q8 (-0.621).\n",
        "\n",
        "**Q6 (Accessibility via teletherapy) with other questions:**\n",
        "* Q6 has a strong positive correlation with Q9 (0.818) and a moderate positive correlation with Q7 (0.761).\n",
        "\n",
        "**Q7 (Adequate training for teletherapy software) with other questions:**\n",
        "* Q7 has a strong positive correlation with Q9 (0.899) and a moderate positive correlation with Q11 (0.937).\n",
        "\n",
        "**Q8 (Equivalently priced services) with other questions:**\n",
        "* Q8 has a strong negative correlation with Q5 (-0.621) and a moderate negative correlation with Q9 (-0.629).\n",
        "\n",
        "**Q9 (Equivalent services via teletherapy) with other questions:**\n",
        "* Q9 has a strong positive correlation with Q6 (0.818), Q7 (0.899), and Q11 (0.739).\n",
        "\n",
        "**Q10 (Frequency of teletherapy services) with other questions:**\n",
        "* Q10 has a moderate negative correlation with Q7 (-0.435).\n",
        "\n",
        "**Q11 (Benefit from teletherapy) with other questions:**\n",
        "* Q11 has a strong positive correlation with Q7 (0.937) and a moderate positive correlation with Q9 (0.739).\n",
        "\n",
        "**Q12 (Parent involvement via teletherapy) with other questions:**\n",
        "* Q12 has a strong positive correlation with Q5 (0.816) and a moderate positive correlation with Q6 (0.754).\n"
      ],
      "metadata": {
        "id": "9kzZbgjclTuk"
      }
    },
    {
      "cell_type": "code",
      "source": [
        "import scipy.stats as stats\n",
        "from statsmodels.formula.api import ols\n",
        "from statsmodels.stats.anova import anova_lm\n",
        "\n",
        "# Replace 'Q2' with the actual column name you want to investigate\n",
        "categorical_variable = 'Q2'\n",
        "\n",
        "# Create a formula for the ANOVA model\n",
        "formula = f'Q5 ~ C({categorical_variable})'\n",
        "\n",
        "# Fit the ANOVA model\n",
        "model = ols(formula, data=survey_data).fit()\n",
        "\n",
        "# Perform ANOVA\n",
        "anova_results = anova_lm(model, typ=2)\n",
        "\n",
        "# Display the ANOVA results\n",
        "print(anova_results)"
      ],
      "metadata": {
        "colab": {
          "base_uri": "https://localhost:8080/"
        },
        "id": "ZQiYHVWXtOo7",
        "outputId": "0b11c7b3-03fb-422f-efcc-8b24a4d26ffe"
      },
      "execution_count": 86,
      "outputs": [
        {
          "output_type": "stream",
          "name": "stdout",
          "text": [
            "          sum_sq   df      F    PR(>F)\n",
            "C(Q2)      217.5  3.0  145.0  0.006849\n",
            "Residual     1.0  2.0    NaN       NaN\n"
          ]
        },
        {
          "output_type": "stream",
          "name": "stderr",
          "text": [
            "/usr/local/lib/python3.10/dist-packages/statsmodels/base/model.py:1888: ValueWarning: covariance of constraints does not have full rank. The number of constraints is 3, but rank is 2\n",
            "  warnings.warn('covariance of constraints does not have full '\n"
          ]
        }
      ]
    },
    {
      "cell_type": "code",
      "source": [
        "# Define a mapping for Likert scale questions\n",
        "likert_mapping = {\n",
        "    'Q5_1': 'Q5',\n",
        "    'Q6_1': 'Q6',\n",
        "    'Q6_2': 'Q7',\n",
        "    'Q6_3': 'Q8',\n",
        "    'Q6_4': 'Q9',\n",
        "    'Q6_5': 'Q10',\n",
        "    'Q6_6': 'Q11',\n",
        "    'Q6_7': 'Q12',\n",
        "}\n",
        "\n",
        "# Rename columns in the survey_data DataFrame\n",
        "survey_data.rename(columns=likert_mapping, inplace=True)\n",
        "\n",
        "# Display the updated columns\n",
        "print(survey_data.columns)"
      ],
      "metadata": {
        "colab": {
          "base_uri": "https://localhost:8080/"
        },
        "id": "gihd4IuV6UbJ",
        "outputId": "9d2eee63-b8a3-47c0-a645-c7c7d194ed3f"
      },
      "execution_count": 87,
      "outputs": [
        {
          "output_type": "stream",
          "name": "stdout",
          "text": [
            "Index(['StartDate', 'EndDate', 'Status', 'IPAddress', 'Progress',\n",
            "       'Duration (in seconds)', 'Finished', 'RecordedDate', 'ResponseId',\n",
            "       'RecipientLastName', 'RecipientFirstName', 'RecipientEmail',\n",
            "       'ExternalReference', 'LocationLatitude', 'LocationLongitude',\n",
            "       'DistributionChannel', 'UserLanguage', 'Consent', 'Q', 'Q.1', 'Q.2',\n",
            "       'Q_2_TEXT', 'Q.3', 'Q_2_TEXT.1', 'Q1', 'Q1_6_TEXT', 'Q2', 'Q3', 'Q4',\n",
            "       'Q4_2_TEXT', 'Q5', 'Q6', 'Q7', 'Q8', 'Q9', 'Q10', 'Q11', 'Q12', 'Q13',\n",
            "       'Q14'],\n",
            "      dtype='object')\n"
          ]
        }
      ]
    },
    {
      "cell_type": "markdown",
      "source": [
        "#Anova"
      ],
      "metadata": {
        "id": "0DLU5QAvSvyB"
      }
    },
    {
      "cell_type": "code",
      "source": [
        "survey_data['Satisfaction'] = survey_data[['Q5', 'Q6', 'Q7', 'Q8', 'Q9', 'Q10', 'Q11', 'Q12']].mean(axis=1)"
      ],
      "metadata": {
        "id": "fUN4ohUWIaiX"
      },
      "execution_count": 88,
      "outputs": []
    },
    {
      "cell_type": "code",
      "source": [
        "print(survey_data.columns)"
      ],
      "metadata": {
        "colab": {
          "base_uri": "https://localhost:8080/"
        },
        "id": "JQUBFhqnJEGQ",
        "outputId": "da7f211c-6c38-41c0-d1e8-9eb7ceff8540"
      },
      "execution_count": 89,
      "outputs": [
        {
          "output_type": "stream",
          "name": "stdout",
          "text": [
            "Index(['StartDate', 'EndDate', 'Status', 'IPAddress', 'Progress',\n",
            "       'Duration (in seconds)', 'Finished', 'RecordedDate', 'ResponseId',\n",
            "       'RecipientLastName', 'RecipientFirstName', 'RecipientEmail',\n",
            "       'ExternalReference', 'LocationLatitude', 'LocationLongitude',\n",
            "       'DistributionChannel', 'UserLanguage', 'Consent', 'Q', 'Q.1', 'Q.2',\n",
            "       'Q_2_TEXT', 'Q.3', 'Q_2_TEXT.1', 'Q1', 'Q1_6_TEXT', 'Q2', 'Q3', 'Q4',\n",
            "       'Q4_2_TEXT', 'Q5', 'Q6', 'Q7', 'Q8', 'Q9', 'Q10', 'Q11', 'Q12', 'Q13',\n",
            "       'Q14', 'Satisfaction'],\n",
            "      dtype='object')\n"
          ]
        }
      ]
    },
    {
      "cell_type": "code",
      "source": [
        "survey_data['Accessibility_Training'] = survey_data[['Q6', 'Q7', 'Q8', 'Q11', 'Q12']].mean(axis=1)\n"
      ],
      "metadata": {
        "id": "_gFVqFFNJR7U"
      },
      "execution_count": 90,
      "outputs": []
    },
    {
      "cell_type": "code",
      "source": [
        "print(survey_data.columns)"
      ],
      "metadata": {
        "colab": {
          "base_uri": "https://localhost:8080/"
        },
        "id": "UxS44aYtJUIH",
        "outputId": "c69a9971-8cc7-428b-8708-a05fc93a12ec"
      },
      "execution_count": 91,
      "outputs": [
        {
          "output_type": "stream",
          "name": "stdout",
          "text": [
            "Index(['StartDate', 'EndDate', 'Status', 'IPAddress', 'Progress',\n",
            "       'Duration (in seconds)', 'Finished', 'RecordedDate', 'ResponseId',\n",
            "       'RecipientLastName', 'RecipientFirstName', 'RecipientEmail',\n",
            "       'ExternalReference', 'LocationLatitude', 'LocationLongitude',\n",
            "       'DistributionChannel', 'UserLanguage', 'Consent', 'Q', 'Q.1', 'Q.2',\n",
            "       'Q_2_TEXT', 'Q.3', 'Q_2_TEXT.1', 'Q1', 'Q1_6_TEXT', 'Q2', 'Q3', 'Q4',\n",
            "       'Q4_2_TEXT', 'Q5', 'Q6', 'Q7', 'Q8', 'Q9', 'Q10', 'Q11', 'Q12', 'Q13',\n",
            "       'Q14', 'Satisfaction', 'Accessibility_Training'],\n",
            "      dtype='object')\n"
          ]
        }
      ]
    },
    {
      "cell_type": "code",
      "source": [
        "# Display the updated DataFrame\n",
        "print(survey_data[['Satisfaction', 'Accessibility_Training']])"
      ],
      "metadata": {
        "colab": {
          "base_uri": "https://localhost:8080/"
        },
        "id": "gCgbn95JJX0v",
        "outputId": "065648b5-289c-4ec0-e3ae-d52c895cc47e"
      },
      "execution_count": 92,
      "outputs": [
        {
          "output_type": "stream",
          "name": "stdout",
          "text": [
            "    Satisfaction  Accessibility_Training\n",
            "0            NaN                     NaN\n",
            "1            NaN                     NaN\n",
            "2            NaN                     NaN\n",
            "3            NaN                     NaN\n",
            "4            NaN                     NaN\n",
            "5            NaN                     NaN\n",
            "6          4.875                     4.6\n",
            "7            NaN                     NaN\n",
            "8            NaN                     NaN\n",
            "9            NaN                     NaN\n",
            "10           NaN                     NaN\n",
            "11         4.625                     4.2\n",
            "12           NaN                     NaN\n",
            "13         5.875                     6.0\n",
            "14         4.500                     4.8\n",
            "15           NaN                     NaN\n"
          ]
        }
      ]
    },
    {
      "cell_type": "code",
      "source": [
        "# Drop rows with NaN values in 'Satisfaction' and 'Accessibility_Training'\n",
        "survey_data_cleaned = survey_data.dropna(subset=['Satisfaction', 'Accessibility_Training'])\n",
        "\n",
        "# Display the cleaned DataFrame\n",
        "print(survey_data_cleaned[['Satisfaction', 'Accessibility_Training']])"
      ],
      "metadata": {
        "colab": {
          "base_uri": "https://localhost:8080/"
        },
        "id": "ZD5mGo8vmBwE",
        "outputId": "a0cf0e4f-f22e-4695-9272-d38e0c98e3b8"
      },
      "execution_count": 93,
      "outputs": [
        {
          "output_type": "stream",
          "name": "stdout",
          "text": [
            "    Satisfaction  Accessibility_Training\n",
            "6          4.875                     4.6\n",
            "11         4.625                     4.2\n",
            "13         5.875                     6.0\n",
            "14         4.500                     4.8\n"
          ]
        }
      ]
    },
    {
      "cell_type": "code",
      "source": [
        "# Assuming 'Q2' contains information about working in Education, Technology, or Neither\n",
        "survey_data['Industry_Group'] = survey_data['Q2'].map({\n",
        "    'Education': 'Education',\n",
        "    'Technology': 'Technology',\n",
        "    'Neither': 'Neither'\n",
        "})\n",
        "\n",
        "# Display the updated DataFrame\n",
        "print(survey_data[['Satisfaction', 'Accessibility_Training', 'Industry_Group']])"
      ],
      "metadata": {
        "colab": {
          "base_uri": "https://localhost:8080/"
        },
        "id": "_pG_3G5Xm1wB",
        "outputId": "17f26557-b7a1-47fa-c0f9-e49d3ec6a2f0"
      },
      "execution_count": 94,
      "outputs": [
        {
          "output_type": "stream",
          "name": "stdout",
          "text": [
            "    Satisfaction  Accessibility_Training Industry_Group\n",
            "0            NaN                     NaN            NaN\n",
            "1            NaN                     NaN            NaN\n",
            "2            NaN                     NaN            NaN\n",
            "3            NaN                     NaN            NaN\n",
            "4            NaN                     NaN            NaN\n",
            "5            NaN                     NaN            NaN\n",
            "6          4.875                     4.6      Education\n",
            "7            NaN                     NaN            NaN\n",
            "8            NaN                     NaN            NaN\n",
            "9            NaN                     NaN            NaN\n",
            "10           NaN                     NaN            NaN\n",
            "11         4.625                     4.2        Neither\n",
            "12           NaN                     NaN            NaN\n",
            "13         5.875                     6.0      Education\n",
            "14         4.500                     4.8        Neither\n",
            "15           NaN                     NaN            NaN\n"
          ]
        }
      ]
    },
    {
      "cell_type": "code",
      "source": [
        "print(survey_data_cleaned.columns)\n"
      ],
      "metadata": {
        "colab": {
          "base_uri": "https://localhost:8080/"
        },
        "id": "Qiygr7h1m8cY",
        "outputId": "1b349629-10b1-4ab2-db52-22776eabc06e"
      },
      "execution_count": 95,
      "outputs": [
        {
          "output_type": "stream",
          "name": "stdout",
          "text": [
            "Index(['StartDate', 'EndDate', 'Status', 'IPAddress', 'Progress',\n",
            "       'Duration (in seconds)', 'Finished', 'RecordedDate', 'ResponseId',\n",
            "       'RecipientLastName', 'RecipientFirstName', 'RecipientEmail',\n",
            "       'ExternalReference', 'LocationLatitude', 'LocationLongitude',\n",
            "       'DistributionChannel', 'UserLanguage', 'Consent', 'Q', 'Q.1', 'Q.2',\n",
            "       'Q_2_TEXT', 'Q.3', 'Q_2_TEXT.1', 'Q1', 'Q1_6_TEXT', 'Q2', 'Q3', 'Q4',\n",
            "       'Q4_2_TEXT', 'Q5', 'Q6', 'Q7', 'Q8', 'Q9', 'Q10', 'Q11', 'Q12', 'Q13',\n",
            "       'Q14', 'Satisfaction', 'Accessibility_Training'],\n",
            "      dtype='object')\n"
          ]
        }
      ]
    },
    {
      "cell_type": "code",
      "source": [
        "# 'Industry_Group' is the column indicating different industry groups\n",
        "survey_data_cleaned['Industry_Group'] = survey_data_cleaned['Q2']\n",
        "\n",
        "# Display the updated DataFrame\n",
        "print(survey_data_cleaned[['Q2', 'Industry_Group']])\n"
      ],
      "metadata": {
        "colab": {
          "base_uri": "https://localhost:8080/"
        },
        "id": "kqgmgYijoJ7x",
        "outputId": "2d6ad2ee-069d-4c63-be05-318a120665c0"
      },
      "execution_count": 96,
      "outputs": [
        {
          "output_type": "stream",
          "name": "stdout",
          "text": [
            "           Q2 Industry_Group\n",
            "6   Education      Education\n",
            "11    Neither        Neither\n",
            "13  Education      Education\n",
            "14    Neither        Neither\n"
          ]
        },
        {
          "output_type": "stream",
          "name": "stderr",
          "text": [
            "<ipython-input-96-8a8010081d3f>:2: SettingWithCopyWarning: \n",
            "A value is trying to be set on a copy of a slice from a DataFrame.\n",
            "Try using .loc[row_indexer,col_indexer] = value instead\n",
            "\n",
            "See the caveats in the documentation: https://pandas.pydata.org/pandas-docs/stable/user_guide/indexing.html#returning-a-view-versus-a-copy\n",
            "  survey_data_cleaned['Industry_Group'] = survey_data_cleaned['Q2']\n"
          ]
        }
      ]
    },
    {
      "cell_type": "code",
      "source": [
        "from scipy.stats import f_oneway\n",
        "\n",
        "# 'Industry_Group' is the column indicating different industry groups\n",
        "grouped_data = [group['Satisfaction'].dropna() for name, group in survey_data_cleaned.groupby('Industry_Group')]\n",
        "\n",
        "# Perform one-way ANOVA\n",
        "f_stat, p_value = f_oneway(*grouped_data)\n",
        "\n",
        "# Display the results\n",
        "print(f'F-statistic: {f_stat}')\n",
        "print(f'P-value: {p_value}')\n"
      ],
      "metadata": {
        "colab": {
          "base_uri": "https://localhost:8080/"
        },
        "id": "_YFogfq7oTOV",
        "outputId": "c2b60ef9-6d15-433b-81b4-a4969988dcdc"
      },
      "execution_count": 97,
      "outputs": [
        {
          "output_type": "stream",
          "name": "stdout",
          "text": [
            "F-statistic: 2.6\n",
            "P-value: 0.24819058844388778\n"
          ]
        }
      ]
    },
    {
      "cell_type": "markdown",
      "source": [
        "The p-value is greater than 0.05, suggesting that we do not have enough evidence to reject the null hypothesis. The null hypothesis typically states that there are no significant differences between the groups. Therefore, based on this analysis, we don't have sufficient evidence to conclude that there are significant differences in satisfaction between different industry groups."
      ],
      "metadata": {
        "id": "Q28DJmX3ooBJ"
      }
    },
    {
      "cell_type": "markdown",
      "source": [
        "#Satisfaction And Accessibility"
      ],
      "metadata": {
        "id": "6AOmoRhaYePf"
      }
    },
    {
      "cell_type": "code",
      "source": [
        "# 'survey_data' is the DataFrame\n",
        "survey_data['Satisfaction'] = survey_data[['Q5', 'Q9', 'Q10', 'Q11', 'Q12']].mean(axis=1)\n",
        "survey_data['Accessibility'] = survey_data[['Q6', 'Q7', 'Q8']].mean(axis=1)\n"
      ],
      "metadata": {
        "id": "beaf-D5lGpNW"
      },
      "execution_count": 98,
      "outputs": []
    },
    {
      "cell_type": "code",
      "source": [
        "print(survey_data[['Satisfaction', 'Accessibility']])\n"
      ],
      "metadata": {
        "colab": {
          "base_uri": "https://localhost:8080/"
        },
        "id": "ah63kILbGsnh",
        "outputId": "b1e58d05-8049-405a-f75a-8b5ac9929452"
      },
      "execution_count": 99,
      "outputs": [
        {
          "output_type": "stream",
          "name": "stdout",
          "text": [
            "    Satisfaction  Accessibility\n",
            "0            NaN            NaN\n",
            "1            NaN            NaN\n",
            "2            NaN            NaN\n",
            "3            NaN            NaN\n",
            "4            NaN            NaN\n",
            "5            NaN            NaN\n",
            "6            5.4       4.000000\n",
            "7            NaN            NaN\n",
            "8            NaN            NaN\n",
            "9            NaN            NaN\n",
            "10           NaN            NaN\n",
            "11           4.4       5.000000\n",
            "12           NaN            NaN\n",
            "13           5.6       6.333333\n",
            "14           4.2       5.000000\n",
            "15           NaN            NaN\n"
          ]
        }
      ]
    },
    {
      "cell_type": "code",
      "source": [
        "# Drop rows with NaN values in the 'Satisfaction' column\n",
        "satisfaction_data = survey_data.dropna(subset=['Satisfaction'])\n",
        "# Perform one-way ANOVA for satisfaction\n",
        "f_stat_satisfaction, p_value_satisfaction = f_oneway(satisfaction_data['Satisfaction'], [0]*len(satisfaction_data))\n",
        "print(f\"Satisfaction - F-statistic: {f_stat_satisfaction}, P-value: {p_value_satisfaction}\")\n",
        "\n"
      ],
      "metadata": {
        "colab": {
          "base_uri": "https://localhost:8080/"
        },
        "id": "v6p96a1TGygq",
        "outputId": "b13137fe-3532-47cc-ec83-9eddb952514f"
      },
      "execution_count": 100,
      "outputs": [
        {
          "output_type": "stream",
          "name": "stdout",
          "text": [
            "Satisfaction - F-statistic: 194.67567567567707, P-value: 8.44792498007197e-06\n"
          ]
        }
      ]
    },
    {
      "cell_type": "markdown",
      "source": [
        "A high F-statistic of 194.68 with a very low p-value of 8.45e-06 means that there is a significant difference in parent satisfaction levels between the time periods (pre vs post covid)."
      ],
      "metadata": {
        "id": "wElS5fTFVyZe"
      }
    },
    {
      "cell_type": "code",
      "source": [
        "from scipy.stats import f_oneway\n",
        "\n",
        "# Extract data for accessibility\n",
        "accessibility_data = survey_data_cleaned.dropna(subset=['Accessibility_Training'])\n",
        "\n",
        "# Perform one-way ANOVA for accessibility\n",
        "f_stat_accessibility, p_value_accessibility = f_oneway(\n",
        "    accessibility_data['Accessibility_Training'],\n",
        "    [0]*len(accessibility_data)\n",
        ")\n",
        "\n",
        "# Print the results\n",
        "print(f\"Accessibility - F-statistic: {f_stat_accessibility}, P-value: {p_value_accessibility}\")\n"
      ],
      "metadata": {
        "colab": {
          "base_uri": "https://localhost:8080/"
        },
        "id": "nTaixfW8I6nt",
        "outputId": "350810d2-3c34-47ce-c0e7-428aad42d34a"
      },
      "execution_count": 101,
      "outputs": [
        {
          "output_type": "stream",
          "name": "stdout",
          "text": [
            "Accessibility - F-statistic: 160.06666666666626, P-value: 1.4942735157822876e-05\n"
          ]
        }
      ]
    },
    {
      "cell_type": "markdown",
      "source": [
        "The ANOVA analysis on accessibility-related questions yielded a substantial F-statistic of 160.07 and a very low p-value of 1.49e-05. This suggests a significant difference in parent perceptions of accessibility during teletherapy across different conditions"
      ],
      "metadata": {
        "id": "awJN36DoXXZF"
      }
    }
  ]
}